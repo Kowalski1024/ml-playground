{
    "metadata": {
        "kernelspec": {
            "name": "SQL",
            "display_name": "SQL",
            "language": "sql"
        },
        "language_info": {
            "name": "sql",
            "version": ""
        },
        "connection_name": ""
    },
    "nbformat_minor": 2,
    "nbformat": 4,
    "cells": [
        {
            "cell_type": "markdown",
            "source": [
                "# Usługa uczenia maszynowego w Microsoft SQL Server\n",
                "\n",
                "Usługa uczenia maszynowego w Microsoft SQL Server to funkcja programu, która umożliwia uruchamianie skryptów w językach Python i R bezpośrednio z bazy danych. Dzięki temu, możliwe jest wykorzystanie różnych narzędzi i bibliotek do przeprowadzania analiz predykcyjnych i uczenia maszynowego na danych zgromadzonych w bazie bez konieczności przenoszenia ich poza SQL Server. Usługa ta jest przydatna do automatyzacji i usprawnienia procesów związanych z uczeniem maszynowym.\n",
                "\n",
                "Standardowo obraz dockera Microsoft SQL Server __nie posiada__ serwisu SQL Machine Learning, aby stworzyć taki kontener trzeba posłużyć się tym przykładem [dockerfile'a](https://github.com/Microsoft/mssql-docker/tree/master/linux/preview/examples/mssql-mlservices).\n",
                "\n",
                "# Skrypty Python w SQL Server\n",
                "\n",
                "[**Opis języka Python**](https://docs.python.org/3/tutorial/index.html)\n",
                "\n",
                "Python jest zainstalowany niezależnie w systemie Microsoft SQL Server w ramach SQL Machine Learning.\n",
                "\n",
                "Skrypt w języku Python można uruchomić przez przekazanie go jako argument do procedury składowanej [sp\\_execute\\_external\\_script](https://learn.microsoft.com/en-us/sql/relational-databases/system-stored-procedures/sp-execute-external-script-transact-sql?view=sql-server-ver16). Ta procedura systemowa pozwala na uruchomienie środowiska Pythona w kontekście uczenia maszynowego SQL, przesyłanie danych do Pythona, zarządzanie sesjami użytkownika Pythona i zwracanie wyników do klienta.\n",
                "\n",
                "## Zezwolenie na działanie procedury sp\\_execute\\_external\\_script"
            ],
            "metadata": {
                "azdata_cell_guid": "190e7c76-70e1-4ecf-88ec-3569f647b9b9",
                "pycharm": {
                    "name": "#%% md\n"
                }
            },
            "attachments": {}
        },
        {
            "cell_type": "code",
            "source": [
                "sp_configure 'external scripts enabled', 1;\n",
                "RECONFIGURE;"
            ],
            "metadata": {
                "azdata_cell_guid": "f25c6f4b-e760-4773-a348-b7ad5b9fcb46",
                "language": "sql",
                "tags": [
                    "hide_input"
                ],
                "pycharm": {
                    "name": "#%%\n"
                }
            },
            "outputs": [],
            "execution_count": null
        },
        {
            "cell_type": "markdown",
            "source": [
                "## Przykłady użycia skryptów Python w SQL\n",
                "\n",
                "### Parametry procedury sp\\_execute\\_external\\_script:\n",
                "\n",
                "**@language** – język. Przyjmowane wartości to R, Python i język zdefiniowany za pomocą [CREATE EXTERNAL LANGUAGE](https://learn.microsoft.com/en-us/sql/t-sql/statements/create-external-language-transact-sql?view=sql-server-ver16). \\\n",
                "**@script** – treść skryptu. Cały skrypt musi być zapisany jako tekst Unicode. Można również przekazać tekst przez zmienną typu nvarchar."
            ],
            "metadata": {
                "language": "python",
                "azdata_cell_guid": "cffb7200-1719-4bd3-a4b7-1ad36e6656c0",
                "pycharm": {
                    "name": "#%% md\n"
                }
            },
            "attachments": {}
        },
        {
            "cell_type": "code",
            "source": [
                "EXECUTE sp_execute_external_script @language = N'Python'\n",
                "    , @script = N'\n",
                "import sys\n",
                "print(\"Python version:\", sys.version)\n",
                "'"
            ],
            "metadata": {
                "language": "sql",
                "azdata_cell_guid": "c5a57d97-4f54-47ca-8c2a-951b954d64f8",
                "pycharm": {
                    "name": "#%%\n"
                },
                "tags": []
            },
            "outputs": [
                {
                    "output_type": "display_data",
                    "data": {
                        "text/html": "STDOUT message(s) from external script: \nPython version: 3.7.2 (default, Dec 29 2018, 06:19:36) \n[GCC 7.3.0]"
                    },
                    "metadata": {}
                },
                {
                    "output_type": "display_data",
                    "data": {
                        "text/html": "Total execution time: 00:00:02.798"
                    },
                    "metadata": {}
                }
            ],
            "execution_count": 61
        },
        {
            "cell_type": "code",
            "source": [
                "EXECUTE sp_execute_external_script @language = N'Python'\n",
                "    , @script = N'\n",
                "ls = [1, 2.0, 3, \"abc\"]\n",
                "\n",
                "for element in ls:\n",
                "    print(element)\n",
                "'"
            ],
            "metadata": {
                "collapsed": false,
                "pycharm": {
                    "name": "#%%\n"
                },
                "azdata_cell_guid": "c6080dc9-cbae-41bb-8ceb-91b2af977221",
                "language": "sql",
                "tags": []
            },
            "outputs": [
                {
                    "output_type": "display_data",
                    "data": {
                        "text/html": "STDOUT message(s) from external script: \n1\n2.0\n3\nabc"
                    },
                    "metadata": {}
                },
                {
                    "output_type": "display_data",
                    "data": {
                        "text/html": "Total execution time: 00:00:02.723"
                    },
                    "metadata": {}
                }
            ],
            "execution_count": 62
        },
        {
            "cell_type": "markdown",
            "source": [
                "Uczenie maszynowe w systemie Microsoft SQL Server w zakresie obsługi języka Python opiera się na pakiecie pandas. Podstawowy obiekt, poprzez który przekazywane są dane do i z Pythona to ramka danych (DataFrame), dlatego dane wejściowe muszą być tabelaryczne, np. utworzone zdaniem SELECT. Dane wyjściowe również muszą być przedstawione w postaci tego typu obiektu.\n",
                "\n",
                "**@input\\_data\\_1 = N'input\\_data\\_1'** - Dane wejściowe wykorzystywane przez zewnętrzny skrypt w postaci zapytania Transact-SQL.  \n",
                "**@input\\_data\\_1\\_name = N'input\\_data\\_1\\_name'** - Nazwa zmiennej używanej do reprezentowania zapytania zdefiniowanego przez @input\\_data\\_1. Domyślną wartością jest **InputDataSet**.\n",
                "\n",
                "**@output\\_data\\_1\\_name = N'output\\_data\\_1\\_name'** - Nazwa zmiennej w zewnętrznym skrypcie, która zawiera dane zwracane do serwera SQL po zakończeniu wywołania procedury składowanej. Domyślną wartością jest **OutputDataSet**.\n",
                "\n",
                "**Uwaga** Notebook wyświetla stdout z procedury w jednej linii, dla bardziej skomplikowanego wyjścia poleca się użycie zwykłego querry."
            ],
            "metadata": {
                "language": "sql",
                "azdata_cell_guid": "02c9c4e7-7c2b-4a5a-b7c0-1a5a4db37e65",
                "pycharm": {
                    "name": "#%% md\n"
                }
            },
            "attachments": {}
        },
        {
            "cell_type": "code",
            "source": [
                "EXECUTE sp_execute_external_script @language = N'Python'\n",
                "    , @script = N'OutputDataSet = InputDataSet'\n",
                "    , @input_data_1 = N'SELECT 1, N''ABC'''"
            ],
            "metadata": {
                "collapsed": false,
                "pycharm": {
                    "name": "#%%\n"
                },
                "azdata_cell_guid": "6acf83b9-a4a4-47c1-bd7b-10b07b7bdac1",
                "language": "sql",
                "tags": []
            },
            "outputs": [
                {
                    "output_type": "display_data",
                    "data": {
                        "text/html": "(1 row affected)"
                    },
                    "metadata": {}
                },
                {
                    "output_type": "display_data",
                    "data": {
                        "text/html": "Total execution time: 00:00:02.839"
                    },
                    "metadata": {}
                },
                {
                    "output_type": "execute_result",
                    "execution_count": 63,
                    "data": {
                        "application/vnd.dataresource+json": {
                            "schema": {
                                "fields": [
                                    {
                                        "name": "(No column name)"
                                    },
                                    {
                                        "name": "(No column name)"
                                    }
                                ]
                            },
                            "data": [
                                {
                                    "0": "1",
                                    "1": "ABC"
                                }
                            ]
                        },
                        "text/html": "<table><tr><th>(No column name)</th><th>(No column name)</th></tr><tr><td>1</td><td>ABC</td></tr></table>"
                    },
                    "metadata": {}
                }
            ],
            "execution_count": 63
        },
        {
            "cell_type": "code",
            "source": [
                "EXECUTE sp_execute_external_script @language = N'Python'\n",
                "    , @script = N'\n",
                "import pandas as pd\n",
                "import matplotlib.pyplot as plt\n",
                "\n",
                "if isinstance(InputDataSet, pd.DataFrame):\n",
                "    print(\"InputDataSet is a DataFrame\")\n",
                "'\n",
                "    , @input_data_1 = N'SELECT 1, N''ABC'''"
            ],
            "metadata": {
                "language": "sql",
                "azdata_cell_guid": "66924982-f3fb-4216-92f6-e9f300851ea0",
                "pycharm": {
                    "name": "#%%\n"
                },
                "tags": []
            },
            "outputs": [
                {
                    "output_type": "display_data",
                    "data": {
                        "text/html": "STDOUT message(s) from external script: \nInputDataSet is a DataFrame"
                    },
                    "metadata": {}
                },
                {
                    "output_type": "display_data",
                    "data": {
                        "text/html": "Total execution time: 00:00:03.878"
                    },
                    "metadata": {}
                }
            ],
            "execution_count": 64
        },
        {
            "cell_type": "markdown",
            "source": [
                "**WITH RESULTS SETS** - klauzula pozwala na określenie schematu tabeli, która jest zwracana przez środowisko SQL. Ten schemat musi pasować do ramki danych, która została przesłana z środowiska wykonawczego i zawierać typy danych z języka SQL."
            ],
            "metadata": {
                "language": "sql",
                "azdata_cell_guid": "c8ecb1df-26ff-4eca-9c1b-d2a9752d49a3",
                "pycharm": {
                    "name": "#%% md\n"
                }
            },
            "attachments": {}
        },
        {
            "cell_type": "code",
            "source": [
                "EXECUTE sp_execute_external_script @language = N'Python'\n",
                "    , @script = N'OutputDataSet = InputDataSet'\n",
                "    , @input_data_1 = N'SELECT 1, N''ABC'''\n",
                "WITH RESULT SETS(([Number] INT, Text NVARCHAR(10)));\n",
                "GO"
            ],
            "metadata": {
                "language": "sql",
                "azdata_cell_guid": "425a4122-f811-4899-9c21-3c20bb872663",
                "tags": [],
                "pycharm": {
                    "name": "#%%\n"
                }
            },
            "outputs": [
                {
                    "output_type": "display_data",
                    "data": {
                        "text/html": "(1 row affected)"
                    },
                    "metadata": {}
                },
                {
                    "output_type": "display_data",
                    "data": {
                        "text/html": "Total execution time: 00:00:02.915"
                    },
                    "metadata": {}
                },
                {
                    "output_type": "execute_result",
                    "execution_count": 65,
                    "data": {
                        "application/vnd.dataresource+json": {
                            "schema": {
                                "fields": [
                                    {
                                        "name": "Number"
                                    },
                                    {
                                        "name": "Text"
                                    }
                                ]
                            },
                            "data": [
                                {
                                    "0": "1",
                                    "1": "ABC"
                                }
                            ]
                        },
                        "text/html": "<table><tr><th>Number</th><th>Text</th></tr><tr><td>1</td><td>ABC</td></tr></table>"
                    },
                    "metadata": {}
                }
            ],
            "execution_count": 65
        },
        {
            "cell_type": "code",
            "source": [
                "EXECUTE sp_execute_external_script @language = N'Python'\n",
                "    , @script = N'SQL_out = SQL_in'\n",
                "    , @input_data_1 = N'SELECT TOP 5 ProductID, ProductName, CategoryID FROM Northwind.dbo.Products'\n",
                "    , @input_data_1_name = N'SQL_in'\n",
                "    , @output_data_1_name = N'SQL_out'\n",
                "WITH RESULT SETS((ProductID INT, ProductName NVARCHAR(40), CategoryID INT));\n",
                "GO"
            ],
            "metadata": {
                "language": "sql",
                "azdata_cell_guid": "a8b54694-b58c-4389-a5af-fff64d6d2c42",
                "tags": [],
                "pycharm": {
                    "name": "#%%\n"
                }
            },
            "outputs": [
                {
                    "output_type": "display_data",
                    "data": {
                        "text/html": "(5 rows affected)"
                    },
                    "metadata": {}
                },
                {
                    "output_type": "display_data",
                    "data": {
                        "text/html": "Total execution time: 00:00:02.854"
                    },
                    "metadata": {}
                },
                {
                    "output_type": "execute_result",
                    "execution_count": 66,
                    "data": {
                        "application/vnd.dataresource+json": {
                            "schema": {
                                "fields": [
                                    {
                                        "name": "ProductID"
                                    },
                                    {
                                        "name": "ProductName"
                                    },
                                    {
                                        "name": "CategoryID"
                                    }
                                ]
                            },
                            "data": [
                                {
                                    "0": "1",
                                    "1": "Chai",
                                    "2": "1"
                                },
                                {
                                    "0": "2",
                                    "1": "Chang",
                                    "2": "1"
                                },
                                {
                                    "0": "3",
                                    "1": "Aniseed Syrup",
                                    "2": "2"
                                },
                                {
                                    "0": "4",
                                    "1": "Chef Anton's Cajun Seasoning",
                                    "2": "2"
                                },
                                {
                                    "0": "5",
                                    "1": "Chef Anton's Gumbo Mix",
                                    "2": "2"
                                }
                            ]
                        },
                        "text/html": "<table><tr><th>ProductID</th><th>ProductName</th><th>CategoryID</th></tr><tr><td>1</td><td>Chai</td><td>1</td></tr><tr><td>2</td><td>Chang</td><td>1</td></tr><tr><td>3</td><td>Aniseed Syrup</td><td>2</td></tr><tr><td>4</td><td>Chef Anton's Cajun Seasoning</td><td>2</td></tr><tr><td>5</td><td>Chef Anton's Gumbo Mix</td><td>2</td></tr></table>"
                    },
                    "metadata": {}
                }
            ],
            "execution_count": 66
        },
        {
            "cell_type": "markdown",
            "source": [
                "Pewne typy danych nie są wspierane, należy wówczas wykorzystać funkcję CAST, warto też zamieniać na właściwsze typy w wynikach za pomocą WITH RESULTS SETS."
            ],
            "metadata": {
                "language": "sql",
                "azdata_cell_guid": "2f05327d-eb1e-4552-8eef-e7731332c1ed",
                "pycharm": {
                    "name": "#%% md\n"
                }
            },
            "attachments": {}
        },
        {
            "cell_type": "code",
            "source": [
                "EXECUTE sp_execute_external_script @language = N'Python'\n",
                "    , @script = N'OutputDataSet = InputDataSet'\n",
                "    , @input_data_1 = N'SELECT ProductID, ProductName, UnitPrice FROM Northwind.dbo.Products;'"
            ],
            "metadata": {
                "azdata_cell_guid": "02c7f2ac-d82e-413e-9fa6-96d4b2e73642",
                "language": "sql",
                "pycharm": {
                    "name": "#%%\n"
                }
            },
            "outputs": [
                {
                    "output_type": "error",
                    "ename": "",
                    "evalue": "Msg 39004, Level 16, State 20, Line 1\r\nA 'Python' script error occurred during execution of 'sp_execute_external_script' with HRESULT 0x80004004.",
                    "traceback": []
                },
                {
                    "output_type": "error",
                    "ename": "",
                    "evalue": "Msg 39019, Level 16, State 2, Line 1\r\nAn external script error occurred: \n\nUnsupported input data type in column 'UnitPrice'.  Supported types: bit, tinyint, smallint, int, bigint, uniqueidentifier, real, float, char, varchar, nchar, nvarchar, varbinary, date, datetime, smalldatetime.\nSqlSatelliteCall error: Unsupported input data type in column 'UnitPrice'.  Supported types: bit, tinyint, smallint, int, bigint, uniqueidentifier, real, float, char, varchar, nchar, nvarchar, varbinary, date, datetime, smalldatetime.",
                    "traceback": []
                },
                {
                    "output_type": "display_data",
                    "data": {
                        "text/html": "STDOUT message(s) from external script: \nSqlSatelliteCall function failed. Please see the console output for more information.\nTraceback (most recent call last):\n  File \"/opt/mssql/mlservices/libraries/PythonServer/revoscalepy/computecontext/RxInSqlServer.py\", line 605, in rx_sql_satellite_call\n    rx_native_call(\"SqlSatelliteCall\", params)\n  File \"/opt/mssql/mlservices/libraries/PythonServer/revoscalepy/RxSerializable.py\", line 375, in rx_native_call\n    ret = px_call(functionname, params)\nRuntimeError: revoscalepy function failed."
                    },
                    "metadata": {}
                },
                {
                    "output_type": "display_data",
                    "data": {
                        "text/html": "Total execution time: 00:00:02.672"
                    },
                    "metadata": {}
                }
            ],
            "execution_count": 67
        },
        {
            "cell_type": "code",
            "source": [
                "EXECUTE sp_execute_external_script @language = N'Python'\n",
                "    , @script = N'OutputDataSet = InputDataSet'\n",
                "    , @input_data_1 = N'SELECT TOP 5 ProductID, ProductName, CAST(UnitPrice AS FLOAT) \n",
                "\tFROM Northwind.dbo.Products; '\n",
                "WITH RESULT SETS((ProductID INT, ProductName NVARCHAR(10), UnitPrice MONEY));\n",
                "GO"
            ],
            "metadata": {
                "language": "sql",
                "azdata_cell_guid": "6484ca21-8fbe-403b-bccd-78e29e528e46",
                "tags": [],
                "pycharm": {
                    "name": "#%%\n"
                }
            },
            "outputs": [
                {
                    "output_type": "display_data",
                    "data": {
                        "text/html": "(5 rows affected)"
                    },
                    "metadata": {}
                },
                {
                    "output_type": "display_data",
                    "data": {
                        "text/html": "Total execution time: 00:00:02.736"
                    },
                    "metadata": {}
                },
                {
                    "output_type": "execute_result",
                    "execution_count": 68,
                    "data": {
                        "application/vnd.dataresource+json": {
                            "schema": {
                                "fields": [
                                    {
                                        "name": "ProductID"
                                    },
                                    {
                                        "name": "ProductName"
                                    },
                                    {
                                        "name": "UnitPrice"
                                    }
                                ]
                            },
                            "data": [
                                {
                                    "0": "1",
                                    "1": "Chai",
                                    "2": "18,00"
                                },
                                {
                                    "0": "2",
                                    "1": "Chang",
                                    "2": "19,00"
                                },
                                {
                                    "0": "3",
                                    "1": "Aniseed Sy",
                                    "2": "10,00"
                                },
                                {
                                    "0": "4",
                                    "1": "Chef Anton",
                                    "2": "22,00"
                                },
                                {
                                    "0": "5",
                                    "1": "Chef Anton",
                                    "2": "21,35"
                                }
                            ]
                        },
                        "text/html": "<table><tr><th>ProductID</th><th>ProductName</th><th>UnitPrice</th></tr><tr><td>1</td><td>Chai</td><td>18,00</td></tr><tr><td>2</td><td>Chang</td><td>19,00</td></tr><tr><td>3</td><td>Aniseed Sy</td><td>10,00</td></tr><tr><td>4</td><td>Chef Anton</td><td>22,00</td></tr><tr><td>5</td><td>Chef Anton</td><td>21,35</td></tr></table>"
                    },
                    "metadata": {}
                }
            ],
            "execution_count": 68
        },
        {
            "cell_type": "markdown",
            "source": [
                "Chcąc dodać dodatkowe parametry do skryptu zewnętrznego, należy określić ich nazwy i typy danych w parametrze **@params**."
            ],
            "metadata": {
                "language": "sql",
                "azdata_cell_guid": "dc6831f8-dda8-4a38-b1db-c0a04cceda37",
                "pycharm": {
                    "name": "#%% md\n"
                }
            },
            "attachments": {}
        },
        {
            "cell_type": "code",
            "source": [
                "EXECUTE sp_execute_external_script @language = N'Python'\n",
                "    , @script = N'print(a, b)'\n",
                "    , @params = N' @a int, @b float'\n",
                "    , @a = 5\n",
                "    , @b = 2.0"
            ],
            "metadata": {
                "language": "sql",
                "azdata_cell_guid": "d7cca88e-5f58-4bee-98ab-485a516ba489",
                "tags": [],
                "pycharm": {
                    "name": "#%%\n"
                }
            },
            "outputs": [
                {
                    "output_type": "display_data",
                    "data": {
                        "text/html": "STDOUT message(s) from external script: \n5 2.0"
                    },
                    "metadata": {}
                },
                {
                    "output_type": "display_data",
                    "data": {
                        "text/html": "Total execution time: 00:00:02.788"
                    },
                    "metadata": {}
                }
            ],
            "execution_count": 69
        },
        {
            "cell_type": "code",
            "source": [
                "DROP PROCEDURE IF EXISTS ParamsExample\n",
                "GO\n",
                "\n",
                "CREATE PROCEDURE ParamsExample (\n",
                "      @param1 INT\n",
                "    , @param2 FLOAT\n",
                "    )\n",
                "AS\n",
                "EXECUTE sp_execute_external_script @language = N'Python'\n",
                "    , @script = N'print(a, b)'\n",
                "    , @params = N' @a int, @b float'\n",
                "    , @a = @param1\n",
                "    , @b = @param2\n",
                "GO"
            ],
            "metadata": {
                "language": "sql",
                "azdata_cell_guid": "02bb9840-27e0-4056-b980-23c6b7893446",
                "tags": [],
                "pycharm": {
                    "name": "#%%\n"
                }
            },
            "outputs": [],
            "execution_count": null
        },
        {
            "cell_type": "code",
            "source": [
                "EXEC ParamsExample 100, 50"
            ],
            "metadata": {
                "language": "sql",
                "azdata_cell_guid": "316c4de9-52af-425d-86a0-8187af12a2f1",
                "pycharm": {
                    "name": "#%%\n"
                }
            },
            "outputs": [
                {
                    "output_type": "display_data",
                    "data": {
                        "text/html": "STDOUT message(s) from external script: \n100 50.0"
                    },
                    "metadata": {}
                },
                {
                    "output_type": "display_data",
                    "data": {
                        "text/html": "Total execution time: 00:00:02.810"
                    },
                    "metadata": {}
                }
            ],
            "execution_count": 73
        },
        {
            "cell_type": "markdown",
            "source": [
                "Procedura może przyjmować tylko jeden zestaw danych wejściowych i zwracać tylko jeden zestaw danych wyjściowych. Jednakże, w kodzie Pythona, istnieje możliwość odwoływania się do innych zestawów danych. Dodatkowo, zestaw danych nie jest jedynym typem danych, które można zwrócić. W celu zwrócenia wartości z dowolnego parametru, można dodać słowo kluczowe OUTPUT. \\\n",
                "Wiecej informacji o parametrach można znaleźć w dokumnetacji [sp_execute_external_script](https://learn.microsoft.com/en-us/sql/relational-databases/system-stored-procedures/sp-execute-external-script-transact-sql?view=sql-server-ver15#arguments).\n",
                "\n",
                "## Standardowe biblioteki Python w SQL Machine Learning\n",
                "Listę zainstalowanych pakietów Pythona, w tym wersję, można wyświetlić przez poniższy skrypt:"
            ],
            "metadata": {
                "language": "sql",
                "azdata_cell_guid": "d3f02da3-f7fc-4750-a654-7a87fe60b441",
                "pycharm": {
                    "name": "#%% md\n"
                }
            },
            "attachments": {}
        },
        {
            "cell_type": "code",
            "source": [
                "EXECUTE sp_execute_external_script @language = N'Python'\n",
                "    , @script = N'\n",
                "import pkg_resources\n",
                "import pandas as pd\n",
                "\n",
                "dists = [str(d) for d in pkg_resources.working_set]\n",
                "OutputDataSet = pd.DataFrame(dists)\n",
                "'\n",
                "WITH RESULT SETS(([Package] NVARCHAR(max)))\n",
                "GO"
            ],
            "metadata": {
                "language": "sql",
                "azdata_cell_guid": "3b4bbb2c-a009-442f-8b44-05f33a06c44b",
                "pycharm": {
                    "name": "#%%\n"
                }
            },
            "outputs": [],
            "execution_count": null
        },
        {
            "cell_type": "markdown",
            "source": [
                "### Pandas & Numpy\n",
                "SQL Machine Learning, korzystające z języka Python, opiera się na pakiecie pandas, który jest bardzo przydatny do pracy z danymi tabelarycznymi. Głównym narzędziem przekazywania danych do i z Pythona jest ramka danych (DataFrame), która odpowiada tabeli z wieloma kolumnami. Pojedyncza kolumna ramki danych jest podobna do jednowymiarowej tablicy lub słownika, i nazywana jest serią (Series). W ramce danych pojedyncza wartość jest znana jako komórka (Cell) i dostępna jest przez indeks.\n",
                "\n",
                "Numpy jest głównie wykorzystywane do obliczeń matematycznych z wieloma funkcjami statystycznymi.\n",
                "\n",
                "### Przykłady z pandas Series\n",
                "Najlepiej kwerendy uruchomić we zwykłym querry."
            ],
            "metadata": {
                "language": "sql",
                "azdata_cell_guid": "395684a9-a69f-479f-a14d-e69d1040e0b4",
                "pycharm": {
                    "name": "#%% md\n"
                }
            },
            "attachments": {}
        },
        {
            "cell_type": "code",
            "source": [
                "EXECUTE sp_execute_external_script @language = N'Python'\n",
                "    , @script = N'\n",
                "import pandas as pd\n",
                "\n",
                "a = 1\n",
                "b = 2\n",
                "c = a/b\n",
                "d = a*b\n",
                "\n",
                "s = pd.Series([c,d,(2,3),\"abc\"])\n",
                "print(s)\n",
                "'"
            ],
            "metadata": {
                "language": "sql",
                "azdata_cell_guid": "547ee867-d828-4fe6-b399-7099277fb42a",
                "pycharm": {
                    "name": "#%%\n"
                }
            },
            "outputs": [
                {
                    "output_type": "display_data",
                    "data": {
                        "text/html": "STDOUT message(s) from external script: \n0       0.5\n1         2\n2    (2, 3)\n3       abc\ndtype: object"
                    },
                    "metadata": {}
                },
                {
                    "output_type": "display_data",
                    "data": {
                        "text/html": "Total execution time: 00:00:02.830"
                    },
                    "metadata": {}
                }
            ],
            "execution_count": 75
        },
        {
            "cell_type": "code",
            "source": [
                "EXECUTE sp_execute_external_script @language = N'Python'\n",
                "    , @script = N'\n",
                "a = 1\n",
                "b = 2\n",
                "c = a/b\n",
                "s = pandas.Series(c, index =[\"simple math example 1\", \"simple math example 2\", \"simple math example 3\"])\n",
                "print(s)\n",
                "'"
            ],
            "metadata": {
                "language": "sql",
                "azdata_cell_guid": "5bce3308-d8f8-4ed3-ac67-a08e119a9725",
                "pycharm": {
                    "name": "#%%\n"
                }
            },
            "outputs": [
                {
                    "output_type": "display_data",
                    "data": {
                        "text/html": "STDOUT message(s) from external script: \nsimple math example 1    0.5\nsimple math example 2    0.5\nsimple math example 3    0.5\ndtype: float64"
                    },
                    "metadata": {}
                },
                {
                    "output_type": "display_data",
                    "data": {
                        "text/html": "Total execution time: 00:00:02.759"
                    },
                    "metadata": {}
                }
            ],
            "execution_count": 76
        },
        {
            "cell_type": "markdown",
            "source": [
                "[Dokumentacja pandas](https://pandas.pydata.org/pandas-docs/stable/user_guide/10min.html)\r\n",
                "\r\n",
                "### Liczby pseudolosowe w numpy\r\n",
                "Losowe próbki z rozkładu normalnego [numpy.random.normal](https://numpy.org/doc/stable/reference/random/generated/numpy.random.normal.html)"
            ],
            "metadata": {
                "language": "sql",
                "azdata_cell_guid": "0e85e005-a543-46fa-b176-097651cbf399"
            },
            "attachments": {}
        },
        {
            "cell_type": "code",
            "source": [
                "CREATE OR ALTER PROCEDURE MyPyNorm (\r\n",
                "      @size INT\r\n",
                "    , @mean INT\r\n",
                "    , @scale INT\r\n",
                "    )\r\n",
                "AS\r\n",
                "EXECUTE sp_execute_external_script @language = N'Python'\r\n",
                "    , @script = N'\r\n",
                "import numpy\r\n",
                "import pandas\r\n",
                "OutputDataSet = pandas.DataFrame(numpy.random.normal(size=size, loc=mean, scale=scale));\r\n",
                "'\r\n",
                "    , @params = N' @size int, @mean int, @scale int'\r\n",
                "    , @size = @size\r\n",
                "    , @mean = @mean\r\n",
                "    , @scale = @scale\r\n",
                "WITH RESULT SETS(([Density] FLOAT NOT NULL));\r\n",
                "GO"
            ],
            "metadata": {
                "language": "sql",
                "azdata_cell_guid": "4a51ec2f-b37f-4d7c-a8eb-53777a75ea90"
            },
            "outputs": [],
            "execution_count": null
        },
        {
            "cell_type": "code",
            "source": [
                "EXEC MyPyNorm 5, 50, 10"
            ],
            "metadata": {
                "language": "sql",
                "azdata_cell_guid": "0a4cff47-6c31-4403-b56d-4cdf96f92598"
            },
            "outputs": [
                {
                    "output_type": "display_data",
                    "data": {
                        "text/html": "(5 rows affected)"
                    },
                    "metadata": {}
                },
                {
                    "output_type": "display_data",
                    "data": {
                        "text/html": "Total execution time: 00:00:02.817"
                    },
                    "metadata": {}
                },
                {
                    "output_type": "execute_result",
                    "execution_count": 78,
                    "data": {
                        "application/vnd.dataresource+json": {
                            "schema": {
                                "fields": [
                                    {
                                        "name": "Density"
                                    }
                                ]
                            },
                            "data": [
                                {
                                    "0": "64,44368652331016"
                                },
                                {
                                    "0": "50,35221807398348"
                                },
                                {
                                    "0": "41,30177472001347"
                                },
                                {
                                    "0": "51,84385652810873"
                                },
                                {
                                    "0": "47,69796004852747"
                                }
                            ]
                        },
                        "text/html": "<table><tr><th>Density</th></tr><tr><td>64,44368652331016</td></tr><tr><td>50,35221807398348</td></tr><tr><td>41,30177472001347</td></tr><tr><td>51,84385652810873</td></tr><tr><td>47,69796004852747</td></tr></table>"
                    },
                    "metadata": {}
                }
            ],
            "execution_count": 78
        },
        {
            "cell_type": "markdown",
            "source": [
                "Losowe próbki z liczb całkowitych [numpy.random.randint](https://numpy.org/doc/stable/reference/random/generated/numpy.random.randint.html)"
            ],
            "metadata": {
                "language": "sql",
                "azdata_cell_guid": "7d8ff962-d1d4-4443-a92a-a1cf2c14f699"
            },
            "attachments": {}
        },
        {
            "cell_type": "code",
            "source": [
                "CREATE OR ALTER PROCEDURE MyPyRandInt (\r\n",
                "        @size INT,\r\n",
                "        @low INT,\r\n",
                "\t    @high INT\r\n",
                "    )\r\n",
                "AS\r\n",
                "EXECUTE sp_execute_external_script @language = N'Python'\r\n",
                "    , @script = N'\r\n",
                "import pandas as pd\r\n",
                "import numpy as np\r\n",
                "values = np.random.randint(low=low, high=high, size=size)\r\n",
                "OutputDataSet = pd.DataFrame(values);\r\n",
                "'\r\n",
                "    , @params = N' @low int, @high int, @size int'\r\n",
                "    , @low = @low\r\n",
                "    , @high = @high\r\n",
                "    , @size = @size\r\n",
                "WITH RESULT SETS(([Number] INT NOT NULL));\r\n",
                "GO"
            ],
            "metadata": {
                "language": "sql",
                "azdata_cell_guid": "412b9914-b5c5-4860-85dd-7a1994c54da4"
            },
            "outputs": [],
            "execution_count": null
        },
        {
            "cell_type": "code",
            "source": [
                "EXEC MyPyRandInt 5, 50, 100"
            ],
            "metadata": {
                "language": "sql",
                "azdata_cell_guid": "df367b2a-b6e3-47ac-b871-e93954c6f98a"
            },
            "outputs": [
                {
                    "output_type": "display_data",
                    "data": {
                        "text/html": "(5 rows affected)"
                    },
                    "metadata": {}
                },
                {
                    "output_type": "display_data",
                    "data": {
                        "text/html": "Total execution time: 00:00:02.696"
                    },
                    "metadata": {}
                },
                {
                    "output_type": "execute_result",
                    "execution_count": 80,
                    "data": {
                        "application/vnd.dataresource+json": {
                            "schema": {
                                "fields": [
                                    {
                                        "name": "Number"
                                    }
                                ]
                            },
                            "data": [
                                {
                                    "0": "52"
                                },
                                {
                                    "0": "83"
                                },
                                {
                                    "0": "70"
                                },
                                {
                                    "0": "52"
                                },
                                {
                                    "0": "90"
                                }
                            ]
                        },
                        "text/html": "<table><tr><th>Number</th></tr><tr><td>52</td></tr><tr><td>83</td></tr><tr><td>70</td></tr><tr><td>52</td></tr><tr><td>90</td></tr></table>"
                    },
                    "metadata": {}
                }
            ],
            "execution_count": 80
        },
        {
            "cell_type": "markdown",
            "source": [
                "## Przykład użycia uczenia maszynowego w SQL Machine Learning\r\n",
                "\r\n",
                "Użyjemy model [RandomForestClassifier](https://scikit-learn.org/stable/modules/generated/sklearn.ensemble.RandomForestClassifier.html) do klasyfikacji win na podstawie analizy chemicznej w trzech rodzajach win.\r\n"
            ],
            "metadata": {
                "language": "sql",
                "azdata_cell_guid": "c1fc9175-1e2f-4f45-a8d0-f76e9682fedc"
            },
            "attachments": {}
        },
        {
            "cell_type": "code",
            "source": [
                "CREATE DATABASE winesql\r\n",
                "GO\r\n",
                ""
            ],
            "metadata": {
                "language": "sql",
                "azdata_cell_guid": "e81f7d17-f91f-4a73-ab27-b6ddf4aa2e3a",
                "tags": [
                    "hide_input"
                ]
            },
            "outputs": [],
            "execution_count": null
        },
        {
            "cell_type": "code",
            "source": [
                "USE winesql\r\n",
                "GO"
            ],
            "metadata": {
                "language": "sql",
                "azdata_cell_guid": "520a6b51-d165-4d02-9ede-c3344fd725f4",
                "tags": [
                    "hide_input"
                ]
            },
            "outputs": [],
            "execution_count": null
        },
        {
            "cell_type": "markdown",
            "source": [
                "**1. Przygotowanie Tabeli przechowującej dane do trenowania**"
            ],
            "metadata": {
                "language": "sql",
                "azdata_cell_guid": "7d278d67-f052-4ef2-80d1-801cabc40398"
            },
            "attachments": {}
        },
        {
            "cell_type": "code",
            "source": [
                "DROP TABLE IF EXISTS wine_data;\r\n",
                "GO\r\n",
                "\r\n",
                "CREATE TABLE wine_data (\r\n",
                "    id INT NOT NULL IDENTITY PRIMARY KEY,\r\n",
                "    Alcohol FLOAT NOT NULL,\r\n",
                "    MalicAcid FLOAT NOT NULL,\r\n",
                "    Ash FLOAT NOT NULL,\r\n",
                "    AlcalinityOfAsh FLOAT NOT NULL,\r\n",
                "    Magnesium FLOAT NOT NULL,\r\n",
                "    TotalPhenols FLOAT NOT NULL,\r\n",
                "    Flavanoids FLOAT NOT NULL,\r\n",
                "    NonflavanoidPhenols FLOAT NOT NULL,\r\n",
                "    Proanthocyanins FLOAT NOT NULL,\r\n",
                "    ColorPntensity FLOAT NOT NULL,\r\n",
                "    Hue FLOAT NOT NULL,\r\n",
                "    ProteinConcentration FLOAT NOT NULL,\r\n",
                "    Proline FLOAT NOT NULL,\r\n",
                "    WineId INT NOT NULL\r\n",
                ");"
            ],
            "metadata": {
                "language": "sql",
                "azdata_cell_guid": "ecb93675-3504-4881-8547-7a16498fdde7"
            },
            "outputs": [],
            "execution_count": null
        },
        {
            "cell_type": "markdown",
            "source": [
                "**2. Tabela przechowująca wytrenowany model (modele) – sam model musi być zserializowany i przechowywany w kolumnie typu varbinary(max)**"
            ],
            "metadata": {
                "language": "sql",
                "azdata_cell_guid": "dfe3c4a9-ad6d-448d-b722-3a13a37921a2"
            },
            "attachments": {}
        },
        {
            "cell_type": "code",
            "source": [
                "DROP TABLE IF EXISTS wine_models;\r\n",
                "GO\r\n",
                "\r\n",
                "CREATE TABLE wine_models (\r\n",
                "  model_name VARCHAR(50) NOT NULL DEFAULT('default model') PRIMARY KEY,\r\n",
                "  model VARBINARY(MAX) NOT NULL\r\n",
                ");\r\n",
                "GO"
            ],
            "metadata": {
                "language": "sql",
                "azdata_cell_guid": "06c1b824-c079-4b94-9fe2-3d4cd7e3a956"
            },
            "outputs": [],
            "execution_count": null
        },
        {
            "cell_type": "markdown",
            "source": [
                "**3. Wypełnienie tabeli wine_data danymi**"
            ],
            "metadata": {
                "language": "sql",
                "azdata_cell_guid": "60a29ef5-c645-4602-8745-c76d11768fb7"
            },
            "attachments": {}
        },
        {
            "cell_type": "code",
            "source": [
                "CREATE OR ALTER PROCEDURE get_wine_dataset\r\n",
                "AS\r\n",
                "BEGIN\r\n",
                "EXEC sp_execute_external_script @language = N'Python', \r\n",
                "@script = N'\r\n",
                "from sklearn import datasets\r\n",
                "import pandas as pd\r\n",
                "\r\n",
                "wine = datasets.load_wine()\r\n",
                "wine_data = pd.DataFrame(wine.data)\r\n",
                "wine_data[\"WineId\"] = wine.target\r\n",
                "', \r\n",
                "@output_data_1_name = N'wine_data'\r\n",
                "WITH RESULT SETS ((\r\n",
                "    Alcohol FLOAT NOT NULL,\r\n",
                "    MalicAcid FLOAT NOT NULL,\r\n",
                "    Ash FLOAT NOT NULL,\r\n",
                "    AlcalinityOfAsh FLOAT NOT NULL,\r\n",
                "    Magnesium FLOAT NOT NULL,\r\n",
                "    TotalPhenols FLOAT NOT NULL,\r\n",
                "    Flavanoids FLOAT NOT NULL,\r\n",
                "    NonflavanoidPhenols FLOAT NOT NULL,\r\n",
                "    Proanthocyanins FLOAT NOT NULL,\r\n",
                "    ColorPntensity FLOAT NOT NULL,\r\n",
                "    Hue FLOAT NOT NULL,\r\n",
                "    ProteinConcentration FLOAT NOT NULL,\r\n",
                "    Proline FLOAT NOT NULL,\r\n",
                "    WineId INT NOT NULL\r\n",
                "    ));\r\n",
                "END;\r\n",
                "GO"
            ],
            "metadata": {
                "language": "sql",
                "azdata_cell_guid": "75fb19ce-7383-4c9a-b22e-6fb3306d7c4d"
            },
            "outputs": [],
            "execution_count": null
        },
        {
            "cell_type": "code",
            "source": [
                "INSERT INTO wine_data\r\n",
                "EXEC dbo.get_wine_dataset;"
            ],
            "metadata": {
                "language": "sql",
                "azdata_cell_guid": "368a0be6-1998-4fe4-a047-d3744b7cff73"
            },
            "outputs": [],
            "execution_count": null
        },
        {
            "cell_type": "code",
            "source": [
                "SELECT TOP 5 * FROM wine_data"
            ],
            "metadata": {
                "language": "sql",
                "azdata_cell_guid": "b9519ecd-866c-4a3e-a71b-7bec6c4f38b2"
            },
            "outputs": [
                {
                    "output_type": "display_data",
                    "data": {
                        "text/html": "(5 rows affected)"
                    },
                    "metadata": {}
                },
                {
                    "output_type": "display_data",
                    "data": {
                        "text/html": "Total execution time: 00:00:00.008"
                    },
                    "metadata": {}
                },
                {
                    "output_type": "execute_result",
                    "execution_count": 86,
                    "data": {
                        "application/vnd.dataresource+json": {
                            "schema": {
                                "fields": [
                                    {
                                        "name": "id"
                                    },
                                    {
                                        "name": "Alcohol"
                                    },
                                    {
                                        "name": "MalicAcid"
                                    },
                                    {
                                        "name": "Ash"
                                    },
                                    {
                                        "name": "AlcalinityOfAsh"
                                    },
                                    {
                                        "name": "Magnesium"
                                    },
                                    {
                                        "name": "TotalPhenols"
                                    },
                                    {
                                        "name": "Flavanoids"
                                    },
                                    {
                                        "name": "NonflavanoidPhenols"
                                    },
                                    {
                                        "name": "Proanthocyanins"
                                    },
                                    {
                                        "name": "ColorPntensity"
                                    },
                                    {
                                        "name": "Hue"
                                    },
                                    {
                                        "name": "ProteinConcentration"
                                    },
                                    {
                                        "name": "Proline"
                                    },
                                    {
                                        "name": "WineId"
                                    }
                                ]
                            },
                            "data": [
                                {
                                    "0": "1",
                                    "1": "14,23",
                                    "2": "1,71",
                                    "3": "2,43",
                                    "4": "15,6",
                                    "5": "127",
                                    "6": "2,8",
                                    "7": "3,06",
                                    "8": "0,28",
                                    "9": "2,29",
                                    "10": "5,64",
                                    "11": "1,04",
                                    "12": "3,92",
                                    "13": "1065",
                                    "14": "0"
                                },
                                {
                                    "0": "2",
                                    "1": "13,2",
                                    "2": "1,78",
                                    "3": "2,14",
                                    "4": "11,2",
                                    "5": "100",
                                    "6": "2,65",
                                    "7": "2,76",
                                    "8": "0,26",
                                    "9": "1,28",
                                    "10": "4,38",
                                    "11": "1,05",
                                    "12": "3,4",
                                    "13": "1050",
                                    "14": "0"
                                },
                                {
                                    "0": "3",
                                    "1": "13,16",
                                    "2": "2,36",
                                    "3": "2,67",
                                    "4": "18,6",
                                    "5": "101",
                                    "6": "2,8",
                                    "7": "3,24",
                                    "8": "0,3",
                                    "9": "2,81",
                                    "10": "5,68",
                                    "11": "1,03",
                                    "12": "3,17",
                                    "13": "1185",
                                    "14": "0"
                                },
                                {
                                    "0": "4",
                                    "1": "14,37",
                                    "2": "1,95",
                                    "3": "2,5",
                                    "4": "16,8",
                                    "5": "113",
                                    "6": "3,85",
                                    "7": "3,49",
                                    "8": "0,24",
                                    "9": "2,18",
                                    "10": "7,8",
                                    "11": "0,86",
                                    "12": "3,45",
                                    "13": "1480",
                                    "14": "0"
                                },
                                {
                                    "0": "5",
                                    "1": "13,24",
                                    "2": "2,59",
                                    "3": "2,87",
                                    "4": "21",
                                    "5": "118",
                                    "6": "2,8",
                                    "7": "2,69",
                                    "8": "0,39",
                                    "9": "1,82",
                                    "10": "4,32",
                                    "11": "1,04",
                                    "12": "2,93",
                                    "13": "735",
                                    "14": "0"
                                }
                            ]
                        },
                        "text/html": "<table><tr><th>id</th><th>Alcohol</th><th>MalicAcid</th><th>Ash</th><th>AlcalinityOfAsh</th><th>Magnesium</th><th>TotalPhenols</th><th>Flavanoids</th><th>NonflavanoidPhenols</th><th>Proanthocyanins</th><th>ColorPntensity</th><th>Hue</th><th>ProteinConcentration</th><th>Proline</th><th>WineId</th></tr><tr><td>1</td><td>14,23</td><td>1,71</td><td>2,43</td><td>15,6</td><td>127</td><td>2,8</td><td>3,06</td><td>0,28</td><td>2,29</td><td>5,64</td><td>1,04</td><td>3,92</td><td>1065</td><td>0</td></tr><tr><td>2</td><td>13,2</td><td>1,78</td><td>2,14</td><td>11,2</td><td>100</td><td>2,65</td><td>2,76</td><td>0,26</td><td>1,28</td><td>4,38</td><td>1,05</td><td>3,4</td><td>1050</td><td>0</td></tr><tr><td>3</td><td>13,16</td><td>2,36</td><td>2,67</td><td>18,6</td><td>101</td><td>2,8</td><td>3,24</td><td>0,3</td><td>2,81</td><td>5,68</td><td>1,03</td><td>3,17</td><td>1185</td><td>0</td></tr><tr><td>4</td><td>14,37</td><td>1,95</td><td>2,5</td><td>16,8</td><td>113</td><td>3,85</td><td>3,49</td><td>0,24</td><td>2,18</td><td>7,8</td><td>0,86</td><td>3,45</td><td>1480</td><td>0</td></tr><tr><td>5</td><td>13,24</td><td>2,59</td><td>2,87</td><td>21</td><td>118</td><td>2,8</td><td>2,69</td><td>0,39</td><td>1,82</td><td>4,32</td><td>1,04</td><td>2,93</td><td>735</td><td>0</td></tr></table>"
                    },
                    "metadata": {}
                }
            ],
            "execution_count": 86
        },
        {
            "cell_type": "markdown",
            "source": [
                "**4. Utworzenie modelu i wytrenowanie modelu**"
            ],
            "metadata": {
                "language": "sql",
                "azdata_cell_guid": "6b23e66b-f033-4973-bba9-248c741e6bf1"
            },
            "attachments": {}
        },
        {
            "cell_type": "code",
            "source": [
                "CREATE OR ALTER PROCEDURE generate_wine_model (\r\n",
                "        @estimators INT,\r\n",
                "        @depth INT,\r\n",
                "        @trained_model VARBINARY(max) OUTPUT\r\n",
                ")\r\n",
                "AS\r\n",
                "BEGIN\r\n",
                "EXEC sp_execute_external_script @language = N'Python'\r\n",
                "        , @script = N'\r\n",
                "import pickle\r\n",
                "from sklearn.ensemble import RandomForestClassifier\r\n",
                "\r\n",
                "# model\r\n",
                "print(\"RandomForest estinamtors:\", estimators, \"depth:\", depth)\r\n",
                "random_forest = RandomForestClassifier(n_estimators=estimators, max_depth=depth)\r\n",
                "\r\n",
                "# target\r\n",
                "target = wine_data[\"WineId\"]\r\n",
                "\r\n",
                "wine_data.drop(labels=[\"WineId\", \"id\"], axis=1, inplace=True)\r\n",
                "\r\n",
                "random_forest.fit(wine_data, target)\r\n",
                "\r\n",
                "trained_model = pickle.dumps(random_forest)\r\n",
                "'\r\n",
                "        , @input_data_1 = N'SELECT * from wine_data'\r\n",
                "        , @input_data_1_name = N'wine_data'\r\n",
                "        , @params = N'@estimators INT, @depth INT, @trained_model varbinary(max) OUTPUT'\r\n",
                "        , @estimators = @estimators\r\n",
                "        , @depth = @depth\r\n",
                "        , @trained_model = @trained_model OUTPUT;\r\n",
                "END;\r\n",
                "GO"
            ],
            "metadata": {
                "language": "sql",
                "azdata_cell_guid": "2e83664e-7804-4221-ab5f-5c27456a3db3"
            },
            "outputs": [],
            "execution_count": null
        },
        {
            "cell_type": "code",
            "source": [
                "DECLARE @model VARBINARY(max);\r\n",
                "\r\n",
                "EXEC generate_wine_model @estimators=2, @depth=2, @trained_model=@model OUTPUT;\r\n",
                "\r\n",
                "INSERT INTO wine_models VALUES (N'RandomForest', @model)"
            ],
            "metadata": {
                "language": "sql",
                "azdata_cell_guid": "a176fa45-39db-4c4b-8629-c41603b4600a",
                "tags": []
            },
            "outputs": [
                {
                    "output_type": "display_data",
                    "data": {
                        "text/html": "STDOUT message(s) from external script: \nRandomForest estinamtors: 2 depth: 2"
                    },
                    "metadata": {}
                },
                {
                    "output_type": "display_data",
                    "data": {
                        "text/html": "(1 row affected)"
                    },
                    "metadata": {}
                },
                {
                    "output_type": "display_data",
                    "data": {
                        "text/html": "Total execution time: 00:00:04.281"
                    },
                    "metadata": {}
                }
            ],
            "execution_count": 88
        },
        {
            "cell_type": "code",
            "source": [
                "SELECT * FROM wine_models"
            ],
            "metadata": {
                "language": "sql",
                "azdata_cell_guid": "2b0f9f37-fa29-4b33-8682-f3da33ef19cd"
            },
            "outputs": [
                {
                    "output_type": "display_data",
                    "data": {
                        "text/html": "(1 row affected)"
                    },
                    "metadata": {}
                },
                {
                    "output_type": "display_data",
                    "data": {
                        "text/html": "Total execution time: 00:00:00.020"
                    },
                    "metadata": {}
                },
                {
                    "output_type": "execute_result",
                    "execution_count": 89,
                    "data": {
                        "application/vnd.dataresource+json": {
                            "schema": {
                                "fields": [
                                    {
                                        "name": "model_name"
                                    },
                                    {
                                        "name": "model"
                                    }
                                ]
                            },
                            "data": [
                                {
                                    "0": "RandomForest",
                                    "1": "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
                                }
                            ]
                        },
                        "text/html": "<table><tr><th>model_name</th><th>model</th></tr><tr><td>RandomForest</td><td>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td></tr></table>"
                    },
                    "metadata": {}
                }
            ],
            "execution_count": 89
        },
        {
            "cell_type": "markdown",
            "source": [
                "**5. Predykcja**"
            ],
            "metadata": {
                "language": "sql",
                "azdata_cell_guid": "338cb8bd-1226-4085-b266-ab0a67e4329b"
            },
            "attachments": {}
        },
        {
            "cell_type": "code",
            "source": [
                "CREATE OR ALTER PROCEDURE predict_wine (@model VARCHAR(100))\r\n",
                "AS\r\n",
                "BEGIN\r\n",
                "    DECLARE @nb_model VARBINARY(max) = (\r\n",
                "            SELECT model\r\n",
                "            FROM wine_models\r\n",
                "            WHERE model_name = @model\r\n",
                "            );\r\n",
                "\r\n",
                "    EXECUTE sp_execute_external_script @language = N'Python'\r\n",
                "        , @script = N'\r\n",
                "import pickle\r\n",
                "import pandas as pd\r\n",
                "\r\n",
                "wine_model = pickle.loads(nb_model)\r\n",
                "\r\n",
                "target = wine_data[\"WineId\"]\r\n",
                "wine_data.drop(labels=[\"WineId\", \"id\"], axis=1, inplace=True)\r\n",
                "\r\n",
                "OutputDataSet = pd.DataFrame()\r\n",
                "OutputDataSet[\"WineId\"] = target\r\n",
                "OutputDataSet[\"Predicted\"] = wine_model.predict(wine_data)\r\n",
                "'\r\n",
                "        , @input_data_1 = N'SELECT TOP 20 * FROM wine_data ORDER BY NEWID()'\r\n",
                "        , @input_data_1_name = N'wine_data'\r\n",
                "        , @params = N'@nb_model varbinary(max)'\r\n",
                "        , @nb_model = @nb_model\r\n",
                "    WITH RESULT SETS((\r\n",
                "        \"WineId\" INT,\r\n",
                "        \"WineId.Predicted\" INT\r\n",
                "        ));\r\n",
                "END;\r\n",
                "GO"
            ],
            "metadata": {
                "language": "sql",
                "azdata_cell_guid": "3c167878-c8a8-483e-adbc-6f50b00d7799"
            },
            "outputs": [
                {
                    "output_type": "display_data",
                    "data": {
                        "text/html": "Commands completed successfully."
                    },
                    "metadata": {}
                },
                {
                    "output_type": "display_data",
                    "data": {
                        "text/html": "Total execution time: 00:00:00.009"
                    },
                    "metadata": {}
                }
            ],
            "execution_count": 98
        },
        {
            "cell_type": "code",
            "source": [
                "EXECUTE predict_wine 'RandomForest';\r\n",
                "GO"
            ],
            "metadata": {
                "language": "sql",
                "azdata_cell_guid": "55a0e1d2-967a-4941-9c32-c290f57a69c8"
            },
            "outputs": [
                {
                    "output_type": "display_data",
                    "data": {
                        "text/html": "(20 rows affected)"
                    },
                    "metadata": {}
                },
                {
                    "output_type": "display_data",
                    "data": {
                        "text/html": "Total execution time: 00:00:04.295"
                    },
                    "metadata": {}
                },
                {
                    "output_type": "execute_result",
                    "execution_count": 101,
                    "data": {
                        "application/vnd.dataresource+json": {
                            "schema": {
                                "fields": [
                                    {
                                        "name": "WineId"
                                    },
                                    {
                                        "name": "WineId.Predicted"
                                    }
                                ]
                            },
                            "data": [
                                {
                                    "0": "0",
                                    "1": "0"
                                },
                                {
                                    "0": "1",
                                    "1": "1"
                                },
                                {
                                    "0": "2",
                                    "1": "1"
                                },
                                {
                                    "0": "1",
                                    "1": "1"
                                },
                                {
                                    "0": "0",
                                    "1": "0"
                                },
                                {
                                    "0": "2",
                                    "1": "2"
                                },
                                {
                                    "0": "1",
                                    "1": "1"
                                },
                                {
                                    "0": "2",
                                    "1": "2"
                                },
                                {
                                    "0": "2",
                                    "1": "2"
                                },
                                {
                                    "0": "2",
                                    "1": "2"
                                },
                                {
                                    "0": "2",
                                    "1": "2"
                                },
                                {
                                    "0": "1",
                                    "1": "0"
                                },
                                {
                                    "0": "0",
                                    "1": "0"
                                },
                                {
                                    "0": "2",
                                    "1": "2"
                                },
                                {
                                    "0": "0",
                                    "1": "0"
                                },
                                {
                                    "0": "2",
                                    "1": "2"
                                },
                                {
                                    "0": "0",
                                    "1": "0"
                                },
                                {
                                    "0": "0",
                                    "1": "0"
                                },
                                {
                                    "0": "1",
                                    "1": "1"
                                },
                                {
                                    "0": "2",
                                    "1": "2"
                                }
                            ]
                        },
                        "text/html": "<table><tr><th>WineId</th><th>WineId.Predicted</th></tr><tr><td>0</td><td>0</td></tr><tr><td>1</td><td>1</td></tr><tr><td>2</td><td>1</td></tr><tr><td>1</td><td>1</td></tr><tr><td>0</td><td>0</td></tr><tr><td>2</td><td>2</td></tr><tr><td>1</td><td>1</td></tr><tr><td>2</td><td>2</td></tr><tr><td>2</td><td>2</td></tr><tr><td>2</td><td>2</td></tr><tr><td>2</td><td>2</td></tr><tr><td>1</td><td>0</td></tr><tr><td>0</td><td>0</td></tr><tr><td>2</td><td>2</td></tr><tr><td>0</td><td>0</td></tr><tr><td>2</td><td>2</td></tr><tr><td>0</td><td>0</td></tr><tr><td>0</td><td>0</td></tr><tr><td>1</td><td>1</td></tr><tr><td>2</td><td>2</td></tr></table>"
                    },
                    "metadata": {}
                }
            ],
            "execution_count": 101
        },
        {
            "cell_type": "markdown",
            "source": [
                "# SQL in Jupyter Notebooks\r\n",
                "### Prerequisites\r\n",
                "**Installing Python packages**\r\n",
                "```\r\n",
                "pip install ipython-sql\r\n",
                "pip install pyodbc\r\n",
                "```\r\n",
                "[ipython-sql documentation](https://pypi.org/project/ipython-sql/)\r\n",
                "\r\n",
                "**SQL driver installation**\r\n",
                "[ODBC Driver 18 for SQL Server](https://learn.microsoft.com/en-us/sql/connect/odbc/download-odbc-driver-for-sql-server?view=sql-server-ver16)\r\n",
                "(Tested on MS SQL Server 2022)\r\n",
                "\r\n",
                "### Connection to SQL Server\r\n",
                "**%sql** for single-line queries.\r\n",
                "**%%sql** for multi-line queries.\r\n",
                "The **<<** operator captures query results in a local variable."
            ],
            "metadata": {
                "language": "sql",
                "azdata_cell_guid": "c0f8a0d9-568f-4a61-9f27-56f3c039d70f"
            },
            "attachments": {}
        },
        {
            "cell_type": "code",
            "source": [
                "# Loading magic method sql\r\n",
                "%load_ext sql\r\n",
                "\r\n",
                "# Connection\r\n",
                "user = 'SA'\r\n",
                "password = 'dockersql#1' #'YourPassword'\r\n",
                "server = 'localhost'\r\n",
                "port = '1433'\r\n",
                "database = 'master'\r\n",
                "driver = 'odbc+driver+18+for+sql+server'\r\n",
                "\r\n",
                "connection_string = f'mssql+pyodbc://{user}:{password}@{server}:{port}/{database}?encrypt=no&driver={driver}'\r\n",
                "\r\n",
                "%sql $connection_string"
            ],
            "metadata": {
                "language": "sql",
                "azdata_cell_guid": "9159df70-cfd9-4fe1-80f6-89678550c8fe"
            },
            "outputs": [],
            "execution_count": null
        },
        {
            "cell_type": "code",
            "source": [
                "# Test connection\r\n",
                "%sql SELECT * FROM sys.databases"
            ],
            "metadata": {
                "language": "sql",
                "azdata_cell_guid": "d9073547-ddbc-483f-854b-3b40a2e1709a"
            },
            "outputs": [],
            "execution_count": null
        }
    ]
}