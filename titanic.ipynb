{
 "cells": [
  {
   "cell_type": "code",
   "execution_count": 321,
   "metadata": {
    "collapsed": true,
    "pycharm": {
     "name": "#%%\n"
    }
   },
   "outputs": [],
   "source": [
    "from matplotlib import pyplot as plt\n",
    "import pandas as pd\n",
    "import numpy as np\n",
    "\n",
    "from sklearn.ensemble import VotingClassifier, RandomForestClassifier\n",
    "from sklearn.preprocessing import StandardScaler, OneHotEncoder\n",
    "from sklearn.model_selection import cross_val_score\n",
    "from sklearn.neighbors import KNeighborsClassifier\n",
    "from sklearn.compose import ColumnTransformer\n",
    "from sklearn.impute import SimpleImputer\n",
    "from sklearn.pipeline import Pipeline"
   ]
  },
  {
   "cell_type": "code",
   "execution_count": 322,
   "outputs": [],
   "source": [
    "df_train = pd.read_csv('data/titanic/train.csv').set_index('PassengerId')\n",
    "df_test = pd.read_csv('data/titanic/test.csv').set_index('PassengerId')\n",
    "data = pd.concat([df_train, df_test], sort=False)"
   ],
   "metadata": {
    "collapsed": false,
    "pycharm": {
     "name": "#%%\n"
    }
   }
  },
  {
   "cell_type": "markdown",
   "source": [
    "* **PassengerId** is the unique id of the row and it doesn't have any effect on target\n",
    "* **Survived is** the target variable we are trying to predict (0 or 1):\n",
    "    * 1 = Survived\n",
    "    * 0 = Not Survived\n",
    "* **Pclass** (Passenger Class) is the socio-economic status of the passenger and it is a categorical ordinal feature which has 3 unique values (1, 2 or 3):\n",
    "    * 1 = Upper Class\n",
    "    * 2 = Middle Class\n",
    "    * 3 = Lower Class\n",
    "* **Name, Sex and Age** are self-explanatory\n",
    "* **SibSp** is the total number of the passengers' siblings and spouse\n",
    "* **Parch** is the total number of the passengers' parents and children\n",
    "* **Ticket** is the ticket number of the passenger\n",
    "* **Fare** is the passenger fare\n",
    "* **Cabin** is the cabin number of the passenger\n",
    "* **Embarked** is port of embarkation and it is a categorical feature which has 3 unique values (C, Q or S):\n",
    "    * C = Cherbourg\n",
    "    * Q = Queenstown\n",
    "    * S = Southampton"
   ],
   "metadata": {
    "collapsed": false,
    "pycharm": {
     "name": "#%% md\n"
    }
   }
  },
  {
   "cell_type": "markdown",
   "source": [
    "# Feature Engineering"
   ],
   "metadata": {
    "collapsed": false,
    "pycharm": {
     "name": "#%% md\n"
    }
   }
  },
  {
   "cell_type": "code",
   "execution_count": 323,
   "outputs": [],
   "source": [
    "data['Surname'] = data.Name.str.split(', ', expand=True)[0]\n",
    "data['TicketId'] = data['Ticket'].apply(lambda x: str(x[:-1]))\n",
    "data['GroupId'] = data.groupby(['Surname', 'Pclass', 'Fare', 'Embarked', 'TicketId']).ngroup()"
   ],
   "metadata": {
    "collapsed": false,
    "pycharm": {
     "name": "#%%\n"
    }
   }
  },
  {
   "cell_type": "code",
   "execution_count": 324,
   "outputs": [],
   "source": [
    "def deck_feature(df):\n",
    "    df['Deck'] = df.Cabin.apply(lambda s: s[0] if pd.notnull(s) else 'M')\n",
    "    df.Deck.replace('T', 'M', inplace=True)\n",
    "\n",
    "def group_decks_by_survival_rate(df):\n",
    "    df['Deck'].replace(['B','D','E'], 'BDE', inplace=True)\n",
    "    df['Deck'].replace(['F','C'],'FC', inplace=True)\n",
    "    df['Deck'].replace(['G','A'],'GA', inplace=True)\n",
    "\n",
    "def titles(df):\n",
    "    df['Title'] = df.Name.str.split(', ', expand=True)[1].str.split('.', expand=True)[0]\n",
    "\n",
    "    # group related titles together\n",
    "    df['Title'].replace(['Capt','Col','Major','Dr','Rev'], 'Officer', inplace=True)\n",
    "    df['Title'].replace(['Jonkheer','Don','Sir','the Countess','Dona','Lady'], 'Royalty', inplace=True)\n",
    "    df['Title'].replace(['Mme','Ms','Mrs'], 'Married woman', inplace=True)\n",
    "    df['Title'].replace(['Mlle','Miss'], 'Unmarried woman', inplace=True)\n",
    "    df['Title'].replace(['Mr'], 'Adult man', inplace=True)\n",
    "    df['Title'].replace(['Master'], 'Young man', inplace=True)\n",
    "\n",
    "deck_feature(data)\n",
    "group_decks_by_survival_rate(data)\n",
    "titles(data)"
   ],
   "metadata": {
    "collapsed": false,
    "pycharm": {
     "name": "#%%\n"
    }
   }
  },
  {
   "cell_type": "code",
   "execution_count": 325,
   "outputs": [],
   "source": [
    "# fill missing age by median age of title\n",
    "def fill_missing_age(df):\n",
    "    df.Age.fillna(df.groupby('Title').Age.transform('median'), inplace=True)\n",
    "\n",
    "# fill missing fare and zero fare by median fare of pclass\n",
    "def fill_missing_fare(df):\n",
    "    df.loc[df.Fare == 0, 'Fare'] = np.nan\n",
    "    df.Fare.fillna(df.groupby('Pclass').Fare.transform('median'), inplace=True)\n",
    "\n",
    "# fill missing embarked by mode\n",
    "def fill_missing_embarked(df):\n",
    "    df.Embarked.fillna(df.Embarked.mode()[0], inplace=True)\n",
    "\n",
    "def fill_zero_fare_to_nan(df):\n",
    "    df.loc[df.Fare == 0, 'Fare'] = np.nan\n",
    "\n",
    "fill_missing_age(data)\n",
    "fill_missing_embarked(data)\n",
    "fill_zero_fare_to_nan(data)\n",
    "\n",
    "data['TicketFreq'] = data.groupby('Ticket')['Ticket'].transform('count')\n",
    "data['Pfare'] = data['Fare'] / data['TicketFreq']"
   ],
   "metadata": {
    "collapsed": false,
    "pycharm": {
     "name": "#%%\n"
    }
   }
  },
  {
   "cell_type": "markdown",
   "source": [
    "# Woman Child Group (WCG)"
   ],
   "metadata": {
    "collapsed": false,
    "pycharm": {
     "name": "#%% md\n"
    }
   }
  },
  {
   "cell_type": "code",
   "execution_count": 326,
   "outputs": [
    {
     "name": "stdout",
     "output_type": "stream",
     "text": [
      "We found 11 nannies/relatives and added them to groups.\n",
      "['Allison', 'Allison', 'Cacic', 'Davies', 'Panula', 'Ryerson', 'Ryerson', 'Spedden', 'Spedden', 'Wick', 'Zabour']\n"
     ]
    }
   ],
   "source": [
    "data['FamilyTitle'] = 'man'\n",
    "data.loc[data['Sex'] == 'female', 'FamilyTitle'] = 'woman'\n",
    "data.loc[data['Name'].str.contains('Master'), 'FamilyTitle'] = 'boy'\n",
    "\n",
    "data.loc[data['FamilyTitle'] == 'man', 'GroupId'] = -1\n",
    "data['GroupFreq'] = data.groupby('GroupId')['GroupId'].transform('count')\n",
    "data['GroupId'] = data['GroupId'].where(data['GroupFreq'] > 1, -1)\n",
    "data['TicketId'] = data.groupby(['Pclass', 'Fare', 'Embarked', 'FamilyTitle', 'TicketId']).ngroup()\n",
    "\n",
    "count = 0\n",
    "names = []\n",
    "for i in data[(data['FamilyTitle'] != 'man') & (data['GroupId'] == -1)].index:\n",
    "    x = data[data['TicketId'] == data.loc[i, 'TicketId']]['GroupId'].values\n",
    "    if x.size > 0:\n",
    "        m = max(x)\n",
    "        if m != -1:\n",
    "            data.loc[i, 'GroupId'] = m\n",
    "            # print family surname of people with same ticket\n",
    "            names.append(data.loc[data['GroupId'] == m, 'Surname'].values[0])\n",
    "            count += 1\n",
    "\n",
    "print(f\"We found {count} nannies/relatives and added them to groups.\")\n",
    "print(sorted(names))"
   ],
   "metadata": {
    "collapsed": false,
    "pycharm": {
     "name": "#%%\n"
    }
   }
  },
  {
   "cell_type": "code",
   "execution_count": 327,
   "outputs": [],
   "source": [
    "data['GroupSurvival'] = None\n",
    "data['Survived'] = data['Survived'].astype(float)\n",
    "\n",
    "data.loc[0:891, 'GroupSurvival'] = data.groupby('GroupId')['Survived'].transform('mean')\n",
    "\n",
    "for i in range(892, 1310):\n",
    "    group_id = data.loc[i, 'GroupId']\n",
    "    data.loc[i, 'GroupSurvival'] = data.loc[data['GroupId'] == group_id, 'GroupSurvival'].iloc[0]\n",
    "\n",
    "data.loc[(data['GroupSurvival'].isnull()) & (data['Pclass'] == 3), 'GroupSurvival'] = 0\n",
    "data.loc[(data['GroupSurvival'].isnull()) & (data['Pclass'] != 3), 'GroupSurvival'] = 1\n",
    "\n",
    "data['Predict'] = 0\n",
    "data.loc[data['Sex'] == 'female', 'Predict'] = 1\n",
    "data.loc[(data['FamilyTitle'] == 'woman') & (data['GroupSurvival'] == 0), 'Predict'] = 0\n",
    "data.loc[(data['FamilyTitle'] == 'boy') & (data['GroupSurvival'] == 1), 'Predict'] = 1"
   ],
   "metadata": {
    "collapsed": false,
    "pycharm": {
     "name": "#%%\n"
    }
   }
  },
  {
   "cell_type": "code",
   "execution_count": 328,
   "outputs": [
    {
     "name": "stdout",
     "output_type": "stream",
     "text": [
      "8 boys predicted to live:\n",
      "                                        Name FamilyTitle\n",
      "PassengerId                                             \n",
      "956              Ryerson, Master. John Borie         boy\n",
      "981              Wells, Master. Ralph Lester         boy\n",
      "1053          Touma, Master. Georges Youssef         boy\n",
      "1086           Drew, Master. Marshall Brines         boy\n",
      "1088         Spedden, Master. Robert Douglas         boy\n",
      "1199               Aks, Master. Philip Frank         boy\n",
      "1284           Abbott, Master. Eugene Joseph         boy\n",
      "1309                Peter, Master. Michael J         boy \n",
      "\n",
      "\n",
      "\n",
      "15 females predicted to die:\n",
      "                                                          Name FamilyTitle\n",
      "PassengerId                                                               \n",
      "910                               Ilmakangas, Miss. Ida Livija       woman\n",
      "925          Johnston, Mrs. Andrew G (Elizabeth Lily\" Watson)\"       woman\n",
      "929                                         Cacic, Miss. Manda       woman\n",
      "1024                             Lefebre, Mrs. Frank (Frances)       woman\n",
      "1032                               Goodwin, Miss. Jessie Allis       woman\n",
      "1045            Klasen, Mrs. (Hulda Kristina Eugenia Lofqvist)       woman\n",
      "1051                       Peacock, Mrs. Benjamin (Edith Nile)       woman\n",
      "1080                                           Sage, Miss. Ada       woman\n",
      "1141                 Khalil, Mrs. Betros (Zahie Maria\" Elias)\"       woman\n",
      "1155                              Klasen, Miss. Gertrud Emilia       woman\n",
      "1172                                    Oreskovic, Miss. Jelka       woman\n",
      "1176                               Rosblom, Miss. Salli Helena       woman\n",
      "1257                            Sage, Mrs. John (Annie Bullen)       woman\n",
      "1259              Riihivouri, Miss. Susanna Juhantytar Sanni\"\"       woman\n",
      "1301                                 Peacock, Miss. Treasteall       woman\n"
     ]
    }
   ],
   "source": [
    "boy_lived = data.loc[(data['Sex'] == 'male') & (data['Predict'] == 1) & (data.index > 891), ['Name', 'FamilyTitle']]\n",
    "female_die = data.loc[(data['Sex'] == 'female') & (data['Predict'] == 0) & (data.index > 891), ['Name', 'FamilyTitle']]\n",
    "\n",
    "print(f'{len(boy_lived)} boys predicted to live:')\n",
    "print(boy_lived, '\\n\\n\\n')\n",
    "print(f'{len(female_die)} females predicted to die:')\n",
    "print(female_die)"
   ],
   "metadata": {
    "collapsed": false,
    "pycharm": {
     "name": "#%%\n"
    }
   }
  },
  {
   "cell_type": "code",
   "execution_count": 329,
   "outputs": [],
   "source": [
    "submit = pd.DataFrame({'PassengerId': data.loc[892:1309].index, 'Survived': data.loc[892:1309, 'Predict'].astype(int)})\n",
    "submit.to_csv('gender_model.csv', index=False)"
   ],
   "metadata": {
    "collapsed": false,
    "pycharm": {
     "name": "#%%\n"
    }
   }
  },
  {
   "cell_type": "markdown",
   "source": [
    "# Non-WCG\n",
    "## Males"
   ],
   "metadata": {
    "collapsed": false,
    "pycharm": {
     "name": "#%% md\n"
    }
   }
  },
  {
   "cell_type": "code",
   "execution_count": 330,
   "outputs": [
    {
     "name": "stdout",
     "output_type": "stream",
     "text": [
      "537\n",
      "247\n"
     ]
    }
   ],
   "source": [
    "male_mask = (data['Sex'] == 'male') & (data['GroupId'] == -1)\n",
    "train_male = data[0:891].loc[male_mask]\n",
    "test_male = data[891:1309].loc[male_mask]\n",
    "print(len(train_male))\n",
    "print(len(test_male))"
   ],
   "metadata": {
    "collapsed": false,
    "pycharm": {
     "name": "#%%\n"
    }
   }
  },
  {
   "cell_type": "code",
   "execution_count": 331,
   "outputs": [
    {
     "data": {
      "text/plain": "<Figure size 700x500 with 1 Axes>",
      "image/png": "[encoded data removed]"
     },
     "metadata": {},
     "output_type": "display_data"
    }
   ],
   "source": [
    "cols = ['PassengerId', 'Name', 'Pfare', 'Pclass', 'Embarked']\n",
    "features = ['Pfare', 'Pclass', 'Embarked']\n",
    "numerical_cols = ['Pfare']\n",
    "categorical_cols = ['Pclass', 'Embarked']\n",
    "\n",
    "y_m = train_male['Survived']\n",
    "X_m = train_male[features]\n",
    "\n",
    "\n",
    "numerical_transformer = Pipeline(steps=[\n",
    "    ('imputer', SimpleImputer()),\n",
    "    ('scaler', StandardScaler())\n",
    "])\n",
    "\n",
    "categorical_transformer = Pipeline(steps=[\n",
    "    ('imputer', SimpleImputer(strategy='most_frequent')),\n",
    "    ('onehot', OneHotEncoder(handle_unknown='ignore'))\n",
    "])\n",
    "\n",
    "male_preprocessor = ColumnTransformer(transformers=[\n",
    "    ('num', numerical_transformer, numerical_cols),\n",
    "    ('cat', categorical_transformer, categorical_cols)\n",
    "])\n",
    "\n",
    "precision_m = []\n",
    "recall_m = []\n",
    "\n",
    "for k in range(1,30):\n",
    "    pipeline1 = Pipeline(steps=[\n",
    "        ('preprocessor', male_preprocessor),\n",
    "        ('model', KNeighborsClassifier(n_neighbors=k))\n",
    "    ])\n",
    "    precision_m.append(cross_val_score(pipeline1, X_m, y_m, cv=15, n_jobs=-1, scoring='precision').mean())\n",
    "    recall_m.append(cross_val_score(pipeline1, X_m, y_m, cv=15, n_jobs=-1, scoring='recall').mean())\n",
    "\n",
    "k_range = range(1,30)\n",
    "plt.figure(figsize=(7,5))\n",
    "plt.plot(k_range, precision_m, label='15-fold precision')\n",
    "plt.plot(k_range, recall_m, label='15-fold recall')\n",
    "plt.axhline(y=0.5, color='r')\n",
    "plt.xlabel('Value of k for KNN')\n",
    "plt.title('Precision and recall by number of neighbors', fontsize=14)\n",
    "plt.legend()\n",
    "plt.show()"
   ],
   "metadata": {
    "collapsed": false,
    "pycharm": {
     "name": "#%%\n"
    }
   }
  },
  {
   "cell_type": "code",
   "execution_count": 332,
   "outputs": [
    {
     "data": {
      "text/plain": "Pipeline(steps=[('preprocessor',\n                 ColumnTransformer(transformers=[('num',\n                                                  Pipeline(steps=[('imputer',\n                                                                   SimpleImputer()),\n                                                                  ('scaler',\n                                                                   StandardScaler())]),\n                                                  ['Pfare']),\n                                                 ('cat',\n                                                  Pipeline(steps=[('imputer',\n                                                                   SimpleImputer(strategy='most_frequent')),\n                                                                  ('onehot',\n                                                                   OneHotEncoder(handle_unknown='ignore'))]),\n                                                  ['Pclass', 'Embarked'])])),\n                ('model',\n                 VotingClassifier(estimators=[('m1',\n                                               KNeighborsClassifier(n_neighbors=1)),\n                                              ('m2',\n                                               KNeighborsClassifier(n_neighbors=3)),\n                                              ('m3',\n                                               KNeighborsClassifier(n_neighbors=7)),\n                                              ('m4',\n                                               KNeighborsClassifier(n_neighbors=23))],\n                                  voting='soft'))])",
      "text/html": "<style>#sk-container-id-30 {color: black;background-color: white;}#sk-container-id-30 pre{padding: 0;}#sk-container-id-30 div.sk-toggleable {background-color: white;}#sk-container-id-30 label.sk-toggleable__label {cursor: pointer;display: block;width: 100%;margin-bottom: 0;padding: 0.3em;box-sizing: border-box;text-align: center;}#sk-container-id-30 label.sk-toggleable__label-arrow:before {content: \"▸\";float: left;margin-right: 0.25em;color: #696969;}#sk-container-id-30 label.sk-toggleable__label-arrow:hover:before {color: black;}#sk-container-id-30 div.sk-estimator:hover label.sk-toggleable__label-arrow:before {color: black;}#sk-container-id-30 div.sk-toggleable__content {max-height: 0;max-width: 0;overflow: hidden;text-align: left;background-color: #f0f8ff;}#sk-container-id-30 div.sk-toggleable__content pre {margin: 0.2em;color: black;border-radius: 0.25em;background-color: #f0f8ff;}#sk-container-id-30 input.sk-toggleable__control:checked~div.sk-toggleable__content {max-height: 200px;max-width: 100%;overflow: auto;}#sk-container-id-30 input.sk-toggleable__control:checked~label.sk-toggleable__label-arrow:before {content: \"▾\";}#sk-container-id-30 div.sk-estimator input.sk-toggleable__control:checked~label.sk-toggleable__label {background-color: #d4ebff;}#sk-container-id-30 div.sk-label input.sk-toggleable__control:checked~label.sk-toggleable__label {background-color: #d4ebff;}#sk-container-id-30 input.sk-hidden--visually {border: 0;clip: rect(1px 1px 1px 1px);clip: rect(1px, 1px, 1px, 1px);height: 1px;margin: -1px;overflow: hidden;padding: 0;position: absolute;width: 1px;}#sk-container-id-30 div.sk-estimator {font-family: monospace;background-color: #f0f8ff;border: 1px dotted black;border-radius: 0.25em;box-sizing: border-box;margin-bottom: 0.5em;}#sk-container-id-30 div.sk-estimator:hover {background-color: #d4ebff;}#sk-container-id-30 div.sk-parallel-item::after {content: \"\";width: 100%;border-bottom: 1px solid gray;flex-grow: 1;}#sk-container-id-30 div.sk-label:hover label.sk-toggleable__label {background-color: #d4ebff;}#sk-container-id-30 div.sk-serial::before {content: \"\";position: absolute;border-left: 1px solid gray;box-sizing: border-box;top: 0;bottom: 0;left: 50%;z-index: 0;}#sk-container-id-30 div.sk-serial {display: flex;flex-direction: column;align-items: center;background-color: white;padding-right: 0.2em;padding-left: 0.2em;position: relative;}#sk-container-id-30 div.sk-item {position: relative;z-index: 1;}#sk-container-id-30 div.sk-parallel {display: flex;align-items: stretch;justify-content: center;background-color: white;position: relative;}#sk-container-id-30 div.sk-item::before, #sk-container-id-30 div.sk-parallel-item::before {content: \"\";position: absolute;border-left: 1px solid gray;box-sizing: border-box;top: 0;bottom: 0;left: 50%;z-index: -1;}#sk-container-id-30 div.sk-parallel-item {display: flex;flex-direction: column;z-index: 1;position: relative;background-color: white;}#sk-container-id-30 div.sk-parallel-item:first-child::after {align-self: flex-end;width: 50%;}#sk-container-id-30 div.sk-parallel-item:last-child::after {align-self: flex-start;width: 50%;}#sk-container-id-30 div.sk-parallel-item:only-child::after {width: 0;}#sk-container-id-30 div.sk-dashed-wrapped {border: 1px dashed gray;margin: 0 0.4em 0.5em 0.4em;box-sizing: border-box;padding-bottom: 0.4em;background-color: white;}#sk-container-id-30 div.sk-label label {font-family: monospace;font-weight: bold;display: inline-block;line-height: 1.2em;}#sk-container-id-30 div.sk-label-container {text-align: center;}#sk-container-id-30 div.sk-container {/* jupyter's `normalize.less` sets `[hidden] { display: none; }` but bootstrap.min.css set `[hidden] { display: none !important; }` so we also need the `!important` here to be able to override the default hidden behavior on the sphinx rendered scikit-learn.org. See: https://github.com/scikit-learn/scikit-learn/issues/21755 */display: inline-block !important;position: relative;}#sk-container-id-30 div.sk-text-repr-fallback {display: none;}</style><div id=\"sk-container-id-30\" class=\"sk-top-container\"><div class=\"sk-text-repr-fallback\"><pre>Pipeline(steps=[(&#x27;preprocessor&#x27;,\n                 ColumnTransformer(transformers=[(&#x27;num&#x27;,\n                                                  Pipeline(steps=[(&#x27;imputer&#x27;,\n                                                                   SimpleImputer()),\n                                                                  (&#x27;scaler&#x27;,\n                                                                   StandardScaler())]),\n                                                  [&#x27;Pfare&#x27;]),\n                                                 (&#x27;cat&#x27;,\n                                                  Pipeline(steps=[(&#x27;imputer&#x27;,\n                                                                   SimpleImputer(strategy=&#x27;most_frequent&#x27;)),\n                                                                  (&#x27;onehot&#x27;,\n                                                                   OneHotEncoder(handle_unknown=&#x27;ignore&#x27;))]),\n                                                  [&#x27;Pclass&#x27;, &#x27;Embarked&#x27;])])),\n                (&#x27;model&#x27;,\n                 VotingClassifier(estimators=[(&#x27;m1&#x27;,\n                                               KNeighborsClassifier(n_neighbors=1)),\n                                              (&#x27;m2&#x27;,\n                                               KNeighborsClassifier(n_neighbors=3)),\n                                              (&#x27;m3&#x27;,\n                                               KNeighborsClassifier(n_neighbors=7)),\n                                              (&#x27;m4&#x27;,\n                                               KNeighborsClassifier(n_neighbors=23))],\n                                  voting=&#x27;soft&#x27;))])</pre><b>In a Jupyter environment, please rerun this cell to show the HTML representation or trust the notebook. <br />On GitHub, the HTML representation is unable to render, please try loading this page with nbviewer.org.</b></div><div class=\"sk-container\" hidden><div class=\"sk-item sk-dashed-wrapped\"><div class=\"sk-label-container\"><div class=\"sk-label sk-toggleable\"><input class=\"sk-toggleable__control sk-hidden--visually\" id=\"sk-estimator-id-320\" type=\"checkbox\" ><label for=\"sk-estimator-id-320\" class=\"sk-toggleable__label sk-toggleable__label-arrow\">Pipeline</label><div class=\"sk-toggleable__content\"><pre>Pipeline(steps=[(&#x27;preprocessor&#x27;,\n                 ColumnTransformer(transformers=[(&#x27;num&#x27;,\n                                                  Pipeline(steps=[(&#x27;imputer&#x27;,\n                                                                   SimpleImputer()),\n                                                                  (&#x27;scaler&#x27;,\n                                                                   StandardScaler())]),\n                                                  [&#x27;Pfare&#x27;]),\n                                                 (&#x27;cat&#x27;,\n                                                  Pipeline(steps=[(&#x27;imputer&#x27;,\n                                                                   SimpleImputer(strategy=&#x27;most_frequent&#x27;)),\n                                                                  (&#x27;onehot&#x27;,\n                                                                   OneHotEncoder(handle_unknown=&#x27;ignore&#x27;))]),\n                                                  [&#x27;Pclass&#x27;, &#x27;Embarked&#x27;])])),\n                (&#x27;model&#x27;,\n                 VotingClassifier(estimators=[(&#x27;m1&#x27;,\n                                               KNeighborsClassifier(n_neighbors=1)),\n                                              (&#x27;m2&#x27;,\n                                               KNeighborsClassifier(n_neighbors=3)),\n                                              (&#x27;m3&#x27;,\n                                               KNeighborsClassifier(n_neighbors=7)),\n                                              (&#x27;m4&#x27;,\n                                               KNeighborsClassifier(n_neighbors=23))],\n                                  voting=&#x27;soft&#x27;))])</pre></div></div></div><div class=\"sk-serial\"><div class=\"sk-item sk-dashed-wrapped\"><div class=\"sk-label-container\"><div class=\"sk-label sk-toggleable\"><input class=\"sk-toggleable__control sk-hidden--visually\" id=\"sk-estimator-id-321\" type=\"checkbox\" ><label for=\"sk-estimator-id-321\" class=\"sk-toggleable__label sk-toggleable__label-arrow\">preprocessor: ColumnTransformer</label><div class=\"sk-toggleable__content\"><pre>ColumnTransformer(transformers=[(&#x27;num&#x27;,\n                                 Pipeline(steps=[(&#x27;imputer&#x27;, SimpleImputer()),\n                                                 (&#x27;scaler&#x27;, StandardScaler())]),\n                                 [&#x27;Pfare&#x27;]),\n                                (&#x27;cat&#x27;,\n                                 Pipeline(steps=[(&#x27;imputer&#x27;,\n                                                  SimpleImputer(strategy=&#x27;most_frequent&#x27;)),\n                                                 (&#x27;onehot&#x27;,\n                                                  OneHotEncoder(handle_unknown=&#x27;ignore&#x27;))]),\n                                 [&#x27;Pclass&#x27;, &#x27;Embarked&#x27;])])</pre></div></div></div><div class=\"sk-parallel\"><div class=\"sk-parallel-item\"><div class=\"sk-item\"><div class=\"sk-label-container\"><div class=\"sk-label sk-toggleable\"><input class=\"sk-toggleable__control sk-hidden--visually\" id=\"sk-estimator-id-322\" type=\"checkbox\" ><label for=\"sk-estimator-id-322\" class=\"sk-toggleable__label sk-toggleable__label-arrow\">num</label><div class=\"sk-toggleable__content\"><pre>[&#x27;Pfare&#x27;]</pre></div></div></div><div class=\"sk-serial\"><div class=\"sk-item\"><div class=\"sk-serial\"><div class=\"sk-item\"><div class=\"sk-estimator sk-toggleable\"><input class=\"sk-toggleable__control sk-hidden--visually\" id=\"sk-estimator-id-323\" type=\"checkbox\" ><label for=\"sk-estimator-id-323\" class=\"sk-toggleable__label sk-toggleable__label-arrow\">SimpleImputer</label><div class=\"sk-toggleable__content\"><pre>SimpleImputer()</pre></div></div></div><div class=\"sk-item\"><div class=\"sk-estimator sk-toggleable\"><input class=\"sk-toggleable__control sk-hidden--visually\" id=\"sk-estimator-id-324\" type=\"checkbox\" ><label for=\"sk-estimator-id-324\" class=\"sk-toggleable__label sk-toggleable__label-arrow\">StandardScaler</label><div class=\"sk-toggleable__content\"><pre>StandardScaler()</pre></div></div></div></div></div></div></div></div><div class=\"sk-parallel-item\"><div class=\"sk-item\"><div class=\"sk-label-container\"><div class=\"sk-label sk-toggleable\"><input class=\"sk-toggleable__control sk-hidden--visually\" id=\"sk-estimator-id-325\" type=\"checkbox\" ><label for=\"sk-estimator-id-325\" class=\"sk-toggleable__label sk-toggleable__label-arrow\">cat</label><div class=\"sk-toggleable__content\"><pre>[&#x27;Pclass&#x27;, &#x27;Embarked&#x27;]</pre></div></div></div><div class=\"sk-serial\"><div class=\"sk-item\"><div class=\"sk-serial\"><div class=\"sk-item\"><div class=\"sk-estimator sk-toggleable\"><input class=\"sk-toggleable__control sk-hidden--visually\" id=\"sk-estimator-id-326\" type=\"checkbox\" ><label for=\"sk-estimator-id-326\" class=\"sk-toggleable__label sk-toggleable__label-arrow\">SimpleImputer</label><div class=\"sk-toggleable__content\"><pre>SimpleImputer(strategy=&#x27;most_frequent&#x27;)</pre></div></div></div><div class=\"sk-item\"><div class=\"sk-estimator sk-toggleable\"><input class=\"sk-toggleable__control sk-hidden--visually\" id=\"sk-estimator-id-327\" type=\"checkbox\" ><label for=\"sk-estimator-id-327\" class=\"sk-toggleable__label sk-toggleable__label-arrow\">OneHotEncoder</label><div class=\"sk-toggleable__content\"><pre>OneHotEncoder(handle_unknown=&#x27;ignore&#x27;)</pre></div></div></div></div></div></div></div></div></div></div><div class=\"sk-item sk-dashed-wrapped\"><div class=\"sk-label-container\"><div class=\"sk-label sk-toggleable\"><input class=\"sk-toggleable__control sk-hidden--visually\" id=\"sk-estimator-id-328\" type=\"checkbox\" ><label for=\"sk-estimator-id-328\" class=\"sk-toggleable__label sk-toggleable__label-arrow\">model: VotingClassifier</label><div class=\"sk-toggleable__content\"><pre>VotingClassifier(estimators=[(&#x27;m1&#x27;, KNeighborsClassifier(n_neighbors=1)),\n                             (&#x27;m2&#x27;, KNeighborsClassifier(n_neighbors=3)),\n                             (&#x27;m3&#x27;, KNeighborsClassifier(n_neighbors=7)),\n                             (&#x27;m4&#x27;, KNeighborsClassifier(n_neighbors=23))],\n                 voting=&#x27;soft&#x27;)</pre></div></div></div><div class=\"sk-parallel\"><div class=\"sk-parallel-item\"><div class=\"sk-item\"><div class=\"sk-label-container\"><div class=\"sk-label sk-toggleable\"><label>m1</label></div></div><div class=\"sk-serial\"><div class=\"sk-item\"><div class=\"sk-estimator sk-toggleable\"><input class=\"sk-toggleable__control sk-hidden--visually\" id=\"sk-estimator-id-329\" type=\"checkbox\" ><label for=\"sk-estimator-id-329\" class=\"sk-toggleable__label sk-toggleable__label-arrow\">KNeighborsClassifier</label><div class=\"sk-toggleable__content\"><pre>KNeighborsClassifier(n_neighbors=1)</pre></div></div></div></div></div></div><div class=\"sk-parallel-item\"><div class=\"sk-item\"><div class=\"sk-label-container\"><div class=\"sk-label sk-toggleable\"><label>m2</label></div></div><div class=\"sk-serial\"><div class=\"sk-item\"><div class=\"sk-estimator sk-toggleable\"><input class=\"sk-toggleable__control sk-hidden--visually\" id=\"sk-estimator-id-330\" type=\"checkbox\" ><label for=\"sk-estimator-id-330\" class=\"sk-toggleable__label sk-toggleable__label-arrow\">KNeighborsClassifier</label><div class=\"sk-toggleable__content\"><pre>KNeighborsClassifier(n_neighbors=3)</pre></div></div></div></div></div></div><div class=\"sk-parallel-item\"><div class=\"sk-item\"><div class=\"sk-label-container\"><div class=\"sk-label sk-toggleable\"><label>m3</label></div></div><div class=\"sk-serial\"><div class=\"sk-item\"><div class=\"sk-estimator sk-toggleable\"><input class=\"sk-toggleable__control sk-hidden--visually\" id=\"sk-estimator-id-331\" type=\"checkbox\" ><label for=\"sk-estimator-id-331\" class=\"sk-toggleable__label sk-toggleable__label-arrow\">KNeighborsClassifier</label><div class=\"sk-toggleable__content\"><pre>KNeighborsClassifier(n_neighbors=7)</pre></div></div></div></div></div></div><div class=\"sk-parallel-item\"><div class=\"sk-item\"><div class=\"sk-label-container\"><div class=\"sk-label sk-toggleable\"><label>m4</label></div></div><div class=\"sk-serial\"><div class=\"sk-item\"><div class=\"sk-estimator sk-toggleable\"><input class=\"sk-toggleable__control sk-hidden--visually\" id=\"sk-estimator-id-332\" type=\"checkbox\" ><label for=\"sk-estimator-id-332\" class=\"sk-toggleable__label sk-toggleable__label-arrow\">KNeighborsClassifier</label><div class=\"sk-toggleable__content\"><pre>KNeighborsClassifier(n_neighbors=23)</pre></div></div></div></div></div></div></div></div></div></div></div></div>"
     },
     "execution_count": 332,
     "metadata": {},
     "output_type": "execute_result"
    }
   ],
   "source": [
    "m1 = KNeighborsClassifier(n_neighbors=1)\n",
    "m2 = KNeighborsClassifier(n_neighbors=3)\n",
    "m3 = KNeighborsClassifier(n_neighbors=7)\n",
    "m4 = KNeighborsClassifier(n_neighbors=23)\n",
    "\n",
    "male_pipeline = Pipeline(steps=[\n",
    "    ('preprocessor', male_preprocessor),\n",
    "    ('model', VotingClassifier(estimators=[('m1', m1), ('m2', m2), ('m3', m3), ('m4', m4)], voting='soft'))\n",
    "])\n",
    "\n",
    "male_pipeline.fit(X_m, y_m)"
   ],
   "metadata": {
    "collapsed": false,
    "pycharm": {
     "name": "#%%\n"
    }
   }
  },
  {
   "cell_type": "code",
   "execution_count": 333,
   "outputs": [
    {
     "name": "stdout",
     "output_type": "stream",
     "text": [
      "The following 12 adult males are predicted to live:\n"
     ]
    },
    {
     "name": "stderr",
     "output_type": "stream",
     "text": [
      "C:\\Users\\tomas\\AppData\\Local\\Temp\\ipykernel_4256\\2338019970.py:7: UserWarning: Boolean Series key will be reindexed to match DataFrame index.\n",
      "  male = data.loc[892:1309][male_mask][['Name', 'Age', 'Title', 'Pfare', 'Pclass']]\n"
     ]
    },
    {
     "data": {
      "text/plain": "                                        Name   Age      Title      Pfare  \\\nPassengerId                                                                \n926                 Mock, Mr. Philipp Edmund  30.0  Adult man  28.875000   \n931                            Hee, Mr. Ling  29.0  Adult man   7.061975   \n960          Tucker, Mr. Gilbert Milligan Jr  31.0  Adult man  28.537500   \n986                      Birnbaum, Mr. Jakob  25.0  Adult man  26.000000   \n987               Tenglin, Mr. Gunnar Isidor  25.0  Adult man   7.795800   \n1018                Brobeck, Mr. Karl Rudolf  22.0  Adult man   7.795800   \n1023               Gracie, Col. Archibald IV  53.0    Officer  28.500000   \n1069         Stengel, Mr. Charles Emil Henry  54.0  Adult man  27.720850   \n1097               Omont, Mr. Alfred Fernand  29.0  Adult man  25.741700   \n1115           Karlsson, Mr. Einar Gervasius  21.0  Adult man   7.795800   \n1118              Asplund, Mr. Johan Charles  23.0  Adult man   7.795800   \n1134            Spedden, Mr. Frederic Oakley  45.0  Adult man  26.900000   \n\n             Pclass     proba  \nPassengerId                    \n926               1  0.595756  \n931               3  0.660455  \n960               1  0.643375  \n986               1  0.762422  \n987               3  0.531573  \n1018              3  0.531573  \n1023              1  0.643375  \n1069              1  0.607660  \n1097              1  0.762422  \n1115              3  0.531573  \n1118              3  0.531573  \n1134              1  0.560041  ",
      "text/html": "<div>\n<style scoped>\n    .dataframe tbody tr th:only-of-type {\n        vertical-align: middle;\n    }\n\n    .dataframe tbody tr th {\n        vertical-align: top;\n    }\n\n    .dataframe thead th {\n        text-align: right;\n    }\n</style>\n<table border=\"1\" class=\"dataframe\">\n  <thead>\n    <tr style=\"text-align: right;\">\n      <th></th>\n      <th>Name</th>\n      <th>Age</th>\n      <th>Title</th>\n      <th>Pfare</th>\n      <th>Pclass</th>\n      <th>proba</th>\n    </tr>\n    <tr>\n      <th>PassengerId</th>\n      <th></th>\n      <th></th>\n      <th></th>\n      <th></th>\n      <th></th>\n      <th></th>\n    </tr>\n  </thead>\n  <tbody>\n    <tr>\n      <th>926</th>\n      <td>Mock, Mr. Philipp Edmund</td>\n      <td>30.0</td>\n      <td>Adult man</td>\n      <td>28.875000</td>\n      <td>1</td>\n      <td>0.595756</td>\n    </tr>\n    <tr>\n      <th>931</th>\n      <td>Hee, Mr. Ling</td>\n      <td>29.0</td>\n      <td>Adult man</td>\n      <td>7.061975</td>\n      <td>3</td>\n      <td>0.660455</td>\n    </tr>\n    <tr>\n      <th>960</th>\n      <td>Tucker, Mr. Gilbert Milligan Jr</td>\n      <td>31.0</td>\n      <td>Adult man</td>\n      <td>28.537500</td>\n      <td>1</td>\n      <td>0.643375</td>\n    </tr>\n    <tr>\n      <th>986</th>\n      <td>Birnbaum, Mr. Jakob</td>\n      <td>25.0</td>\n      <td>Adult man</td>\n      <td>26.000000</td>\n      <td>1</td>\n      <td>0.762422</td>\n    </tr>\n    <tr>\n      <th>987</th>\n      <td>Tenglin, Mr. Gunnar Isidor</td>\n      <td>25.0</td>\n      <td>Adult man</td>\n      <td>7.795800</td>\n      <td>3</td>\n      <td>0.531573</td>\n    </tr>\n    <tr>\n      <th>1018</th>\n      <td>Brobeck, Mr. Karl Rudolf</td>\n      <td>22.0</td>\n      <td>Adult man</td>\n      <td>7.795800</td>\n      <td>3</td>\n      <td>0.531573</td>\n    </tr>\n    <tr>\n      <th>1023</th>\n      <td>Gracie, Col. Archibald IV</td>\n      <td>53.0</td>\n      <td>Officer</td>\n      <td>28.500000</td>\n      <td>1</td>\n      <td>0.643375</td>\n    </tr>\n    <tr>\n      <th>1069</th>\n      <td>Stengel, Mr. Charles Emil Henry</td>\n      <td>54.0</td>\n      <td>Adult man</td>\n      <td>27.720850</td>\n      <td>1</td>\n      <td>0.607660</td>\n    </tr>\n    <tr>\n      <th>1097</th>\n      <td>Omont, Mr. Alfred Fernand</td>\n      <td>29.0</td>\n      <td>Adult man</td>\n      <td>25.741700</td>\n      <td>1</td>\n      <td>0.762422</td>\n    </tr>\n    <tr>\n      <th>1115</th>\n      <td>Karlsson, Mr. Einar Gervasius</td>\n      <td>21.0</td>\n      <td>Adult man</td>\n      <td>7.795800</td>\n      <td>3</td>\n      <td>0.531573</td>\n    </tr>\n    <tr>\n      <th>1118</th>\n      <td>Asplund, Mr. Johan Charles</td>\n      <td>23.0</td>\n      <td>Adult man</td>\n      <td>7.795800</td>\n      <td>3</td>\n      <td>0.531573</td>\n    </tr>\n    <tr>\n      <th>1134</th>\n      <td>Spedden, Mr. Frederic Oakley</td>\n      <td>45.0</td>\n      <td>Adult man</td>\n      <td>26.900000</td>\n      <td>1</td>\n      <td>0.560041</td>\n    </tr>\n  </tbody>\n</table>\n</div>"
     },
     "execution_count": 333,
     "metadata": {},
     "output_type": "execute_result"
    }
   ],
   "source": [
    "import numpy as np\n",
    "X_test_m = test_male[features]\n",
    "proba = male_pipeline.predict_proba(X_test_m)[:, 1]\n",
    "predictions = np.where(proba > 0.5, 1, 0)\n",
    "\n",
    "print(f'The following {len(test_male.loc[predictions == 1])} adult males are predicted to live:')\n",
    "male = data.loc[892:1309][male_mask][['Name', 'Age', 'Title', 'Pfare', 'Pclass']]\n",
    "male['proba'] = proba\n",
    "male[predictions == 1]"
   ],
   "metadata": {
    "collapsed": false,
    "pycharm": {
     "name": "#%%\n"
    }
   }
  },
  {
   "cell_type": "code",
   "execution_count": 334,
   "outputs": [],
   "source": [
    "data.loc[892:1309, 'Predict'][male_mask] = predictions\n",
    "submit = pd.DataFrame({'PassengerId': data.loc[892:1309].index, 'Survived': data.loc[892:1309, 'Predict'].astype(int)})\n",
    "submit.to_csv('gender_model2.csv', index=False)"
   ],
   "metadata": {
    "collapsed": false,
    "pycharm": {
     "name": "#%%# override predict in data# override predict in data\n"
    }
   }
  },
  {
   "cell_type": "markdown",
   "source": [
    "## Females"
   ],
   "metadata": {
    "collapsed": false,
    "pycharm": {
     "name": "#%% md\n"
    }
   }
  },
  {
   "cell_type": "code",
   "execution_count": 335,
   "outputs": [
    {
     "name": "stdout",
     "output_type": "stream",
     "text": [
      "77\n",
      "46\n"
     ]
    }
   ],
   "source": [
    "# female 3rd class\n",
    "female_mask = (data['Sex'] == 'female') & (data['GroupId'] == -1)  & (data['Pclass'] == 3)\n",
    "train_female = data[0:891].loc[female_mask]\n",
    "test_female = data[891:1309].loc[female_mask]\n",
    "print(len(train_female))\n",
    "print(len(test_female))"
   ],
   "metadata": {
    "collapsed": false,
    "pycharm": {
     "name": "#%%\n"
    }
   }
  },
  {
   "cell_type": "code",
   "execution_count": 336,
   "outputs": [],
   "source": [
    "features = ['Age', 'Title']\n",
    "numerical_cols = ['Age']\n",
    "categorical_cols = ['Title']\n",
    "\n",
    "X_m = train_female[features]\n",
    "y_m = train_female['Survived']\n",
    "\n",
    "female_preprocessor = ColumnTransformer(transformers=[\n",
    "    ('num', numerical_transformer, numerical_cols),\n",
    "    ('cat', categorical_transformer, categorical_cols)\n",
    "])"
   ],
   "metadata": {
    "collapsed": false,
    "pycharm": {
     "name": "#%%\n"
    }
   }
  },
  {
   "cell_type": "code",
   "execution_count": 337,
   "outputs": [
    {
     "data": {
      "text/plain": "Pipeline(steps=[('preprocessor',\n                 ColumnTransformer(transformers=[('num',\n                                                  Pipeline(steps=[('imputer',\n                                                                   SimpleImputer()),\n                                                                  ('scaler',\n                                                                   StandardScaler())]),\n                                                  ['Age']),\n                                                 ('cat',\n                                                  Pipeline(steps=[('imputer',\n                                                                   SimpleImputer(strategy='most_frequent')),\n                                                                  ('onehot',\n                                                                   OneHotEncoder(handle_unknown='ignore'))]),\n                                                  ['Title'])])),\n                ('model',\n                 XGBClassifier(base_score=None, booster=None, cal...\n                               feature_types=None, gamma=None, gpu_id=None,\n                               grow_policy=None, importance_type=None,\n                               interaction_constraints=None, learning_rate=0.1,\n                               max_bin=None, max_cat_threshold=None,\n                               max_cat_to_onehot=None, max_delta_step=None,\n                               max_depth=5, max_leaves=None,\n                               min_child_weight=None, missing=nan,\n                               monotone_constraints=None, n_estimators=500,\n                               n_jobs=None, num_parallel_tree=None,\n                               predictor=None, random_state=0, ...))])",
      "text/html": "<style>#sk-container-id-31 {color: black;background-color: white;}#sk-container-id-31 pre{padding: 0;}#sk-container-id-31 div.sk-toggleable {background-color: white;}#sk-container-id-31 label.sk-toggleable__label {cursor: pointer;display: block;width: 100%;margin-bottom: 0;padding: 0.3em;box-sizing: border-box;text-align: center;}#sk-container-id-31 label.sk-toggleable__label-arrow:before {content: \"▸\";float: left;margin-right: 0.25em;color: #696969;}#sk-container-id-31 label.sk-toggleable__label-arrow:hover:before {color: black;}#sk-container-id-31 div.sk-estimator:hover label.sk-toggleable__label-arrow:before {color: black;}#sk-container-id-31 div.sk-toggleable__content {max-height: 0;max-width: 0;overflow: hidden;text-align: left;background-color: #f0f8ff;}#sk-container-id-31 div.sk-toggleable__content pre {margin: 0.2em;color: black;border-radius: 0.25em;background-color: #f0f8ff;}#sk-container-id-31 input.sk-toggleable__control:checked~div.sk-toggleable__content {max-height: 200px;max-width: 100%;overflow: auto;}#sk-container-id-31 input.sk-toggleable__control:checked~label.sk-toggleable__label-arrow:before {content: \"▾\";}#sk-container-id-31 div.sk-estimator input.sk-toggleable__control:checked~label.sk-toggleable__label {background-color: #d4ebff;}#sk-container-id-31 div.sk-label input.sk-toggleable__control:checked~label.sk-toggleable__label {background-color: #d4ebff;}#sk-container-id-31 input.sk-hidden--visually {border: 0;clip: rect(1px 1px 1px 1px);clip: rect(1px, 1px, 1px, 1px);height: 1px;margin: -1px;overflow: hidden;padding: 0;position: absolute;width: 1px;}#sk-container-id-31 div.sk-estimator {font-family: monospace;background-color: #f0f8ff;border: 1px dotted black;border-radius: 0.25em;box-sizing: border-box;margin-bottom: 0.5em;}#sk-container-id-31 div.sk-estimator:hover {background-color: #d4ebff;}#sk-container-id-31 div.sk-parallel-item::after {content: \"\";width: 100%;border-bottom: 1px solid gray;flex-grow: 1;}#sk-container-id-31 div.sk-label:hover label.sk-toggleable__label {background-color: #d4ebff;}#sk-container-id-31 div.sk-serial::before {content: \"\";position: absolute;border-left: 1px solid gray;box-sizing: border-box;top: 0;bottom: 0;left: 50%;z-index: 0;}#sk-container-id-31 div.sk-serial {display: flex;flex-direction: column;align-items: center;background-color: white;padding-right: 0.2em;padding-left: 0.2em;position: relative;}#sk-container-id-31 div.sk-item {position: relative;z-index: 1;}#sk-container-id-31 div.sk-parallel {display: flex;align-items: stretch;justify-content: center;background-color: white;position: relative;}#sk-container-id-31 div.sk-item::before, #sk-container-id-31 div.sk-parallel-item::before {content: \"\";position: absolute;border-left: 1px solid gray;box-sizing: border-box;top: 0;bottom: 0;left: 50%;z-index: -1;}#sk-container-id-31 div.sk-parallel-item {display: flex;flex-direction: column;z-index: 1;position: relative;background-color: white;}#sk-container-id-31 div.sk-parallel-item:first-child::after {align-self: flex-end;width: 50%;}#sk-container-id-31 div.sk-parallel-item:last-child::after {align-self: flex-start;width: 50%;}#sk-container-id-31 div.sk-parallel-item:only-child::after {width: 0;}#sk-container-id-31 div.sk-dashed-wrapped {border: 1px dashed gray;margin: 0 0.4em 0.5em 0.4em;box-sizing: border-box;padding-bottom: 0.4em;background-color: white;}#sk-container-id-31 div.sk-label label {font-family: monospace;font-weight: bold;display: inline-block;line-height: 1.2em;}#sk-container-id-31 div.sk-label-container {text-align: center;}#sk-container-id-31 div.sk-container {/* jupyter's `normalize.less` sets `[hidden] { display: none; }` but bootstrap.min.css set `[hidden] { display: none !important; }` so we also need the `!important` here to be able to override the default hidden behavior on the sphinx rendered scikit-learn.org. See: https://github.com/scikit-learn/scikit-learn/issues/21755 */display: inline-block !important;position: relative;}#sk-container-id-31 div.sk-text-repr-fallback {display: none;}</style><div id=\"sk-container-id-31\" class=\"sk-top-container\"><div class=\"sk-text-repr-fallback\"><pre>Pipeline(steps=[(&#x27;preprocessor&#x27;,\n                 ColumnTransformer(transformers=[(&#x27;num&#x27;,\n                                                  Pipeline(steps=[(&#x27;imputer&#x27;,\n                                                                   SimpleImputer()),\n                                                                  (&#x27;scaler&#x27;,\n                                                                   StandardScaler())]),\n                                                  [&#x27;Age&#x27;]),\n                                                 (&#x27;cat&#x27;,\n                                                  Pipeline(steps=[(&#x27;imputer&#x27;,\n                                                                   SimpleImputer(strategy=&#x27;most_frequent&#x27;)),\n                                                                  (&#x27;onehot&#x27;,\n                                                                   OneHotEncoder(handle_unknown=&#x27;ignore&#x27;))]),\n                                                  [&#x27;Title&#x27;])])),\n                (&#x27;model&#x27;,\n                 XGBClassifier(base_score=None, booster=None, cal...\n                               feature_types=None, gamma=None, gpu_id=None,\n                               grow_policy=None, importance_type=None,\n                               interaction_constraints=None, learning_rate=0.1,\n                               max_bin=None, max_cat_threshold=None,\n                               max_cat_to_onehot=None, max_delta_step=None,\n                               max_depth=5, max_leaves=None,\n                               min_child_weight=None, missing=nan,\n                               monotone_constraints=None, n_estimators=500,\n                               n_jobs=None, num_parallel_tree=None,\n                               predictor=None, random_state=0, ...))])</pre><b>In a Jupyter environment, please rerun this cell to show the HTML representation or trust the notebook. <br />On GitHub, the HTML representation is unable to render, please try loading this page with nbviewer.org.</b></div><div class=\"sk-container\" hidden><div class=\"sk-item sk-dashed-wrapped\"><div class=\"sk-label-container\"><div class=\"sk-label sk-toggleable\"><input class=\"sk-toggleable__control sk-hidden--visually\" id=\"sk-estimator-id-333\" type=\"checkbox\" ><label for=\"sk-estimator-id-333\" class=\"sk-toggleable__label sk-toggleable__label-arrow\">Pipeline</label><div class=\"sk-toggleable__content\"><pre>Pipeline(steps=[(&#x27;preprocessor&#x27;,\n                 ColumnTransformer(transformers=[(&#x27;num&#x27;,\n                                                  Pipeline(steps=[(&#x27;imputer&#x27;,\n                                                                   SimpleImputer()),\n                                                                  (&#x27;scaler&#x27;,\n                                                                   StandardScaler())]),\n                                                  [&#x27;Age&#x27;]),\n                                                 (&#x27;cat&#x27;,\n                                                  Pipeline(steps=[(&#x27;imputer&#x27;,\n                                                                   SimpleImputer(strategy=&#x27;most_frequent&#x27;)),\n                                                                  (&#x27;onehot&#x27;,\n                                                                   OneHotEncoder(handle_unknown=&#x27;ignore&#x27;))]),\n                                                  [&#x27;Title&#x27;])])),\n                (&#x27;model&#x27;,\n                 XGBClassifier(base_score=None, booster=None, cal...\n                               feature_types=None, gamma=None, gpu_id=None,\n                               grow_policy=None, importance_type=None,\n                               interaction_constraints=None, learning_rate=0.1,\n                               max_bin=None, max_cat_threshold=None,\n                               max_cat_to_onehot=None, max_delta_step=None,\n                               max_depth=5, max_leaves=None,\n                               min_child_weight=None, missing=nan,\n                               monotone_constraints=None, n_estimators=500,\n                               n_jobs=None, num_parallel_tree=None,\n                               predictor=None, random_state=0, ...))])</pre></div></div></div><div class=\"sk-serial\"><div class=\"sk-item sk-dashed-wrapped\"><div class=\"sk-label-container\"><div class=\"sk-label sk-toggleable\"><input class=\"sk-toggleable__control sk-hidden--visually\" id=\"sk-estimator-id-334\" type=\"checkbox\" ><label for=\"sk-estimator-id-334\" class=\"sk-toggleable__label sk-toggleable__label-arrow\">preprocessor: ColumnTransformer</label><div class=\"sk-toggleable__content\"><pre>ColumnTransformer(transformers=[(&#x27;num&#x27;,\n                                 Pipeline(steps=[(&#x27;imputer&#x27;, SimpleImputer()),\n                                                 (&#x27;scaler&#x27;, StandardScaler())]),\n                                 [&#x27;Age&#x27;]),\n                                (&#x27;cat&#x27;,\n                                 Pipeline(steps=[(&#x27;imputer&#x27;,\n                                                  SimpleImputer(strategy=&#x27;most_frequent&#x27;)),\n                                                 (&#x27;onehot&#x27;,\n                                                  OneHotEncoder(handle_unknown=&#x27;ignore&#x27;))]),\n                                 [&#x27;Title&#x27;])])</pre></div></div></div><div class=\"sk-parallel\"><div class=\"sk-parallel-item\"><div class=\"sk-item\"><div class=\"sk-label-container\"><div class=\"sk-label sk-toggleable\"><input class=\"sk-toggleable__control sk-hidden--visually\" id=\"sk-estimator-id-335\" type=\"checkbox\" ><label for=\"sk-estimator-id-335\" class=\"sk-toggleable__label sk-toggleable__label-arrow\">num</label><div class=\"sk-toggleable__content\"><pre>[&#x27;Age&#x27;]</pre></div></div></div><div class=\"sk-serial\"><div class=\"sk-item\"><div class=\"sk-serial\"><div class=\"sk-item\"><div class=\"sk-estimator sk-toggleable\"><input class=\"sk-toggleable__control sk-hidden--visually\" id=\"sk-estimator-id-336\" type=\"checkbox\" ><label for=\"sk-estimator-id-336\" class=\"sk-toggleable__label sk-toggleable__label-arrow\">SimpleImputer</label><div class=\"sk-toggleable__content\"><pre>SimpleImputer()</pre></div></div></div><div class=\"sk-item\"><div class=\"sk-estimator sk-toggleable\"><input class=\"sk-toggleable__control sk-hidden--visually\" id=\"sk-estimator-id-337\" type=\"checkbox\" ><label for=\"sk-estimator-id-337\" class=\"sk-toggleable__label sk-toggleable__label-arrow\">StandardScaler</label><div class=\"sk-toggleable__content\"><pre>StandardScaler()</pre></div></div></div></div></div></div></div></div><div class=\"sk-parallel-item\"><div class=\"sk-item\"><div class=\"sk-label-container\"><div class=\"sk-label sk-toggleable\"><input class=\"sk-toggleable__control sk-hidden--visually\" id=\"sk-estimator-id-338\" type=\"checkbox\" ><label for=\"sk-estimator-id-338\" class=\"sk-toggleable__label sk-toggleable__label-arrow\">cat</label><div class=\"sk-toggleable__content\"><pre>[&#x27;Title&#x27;]</pre></div></div></div><div class=\"sk-serial\"><div class=\"sk-item\"><div class=\"sk-serial\"><div class=\"sk-item\"><div class=\"sk-estimator sk-toggleable\"><input class=\"sk-toggleable__control sk-hidden--visually\" id=\"sk-estimator-id-339\" type=\"checkbox\" ><label for=\"sk-estimator-id-339\" class=\"sk-toggleable__label sk-toggleable__label-arrow\">SimpleImputer</label><div class=\"sk-toggleable__content\"><pre>SimpleImputer(strategy=&#x27;most_frequent&#x27;)</pre></div></div></div><div class=\"sk-item\"><div class=\"sk-estimator sk-toggleable\"><input class=\"sk-toggleable__control sk-hidden--visually\" id=\"sk-estimator-id-340\" type=\"checkbox\" ><label for=\"sk-estimator-id-340\" class=\"sk-toggleable__label sk-toggleable__label-arrow\">OneHotEncoder</label><div class=\"sk-toggleable__content\"><pre>OneHotEncoder(handle_unknown=&#x27;ignore&#x27;)</pre></div></div></div></div></div></div></div></div></div></div><div class=\"sk-item\"><div class=\"sk-estimator sk-toggleable\"><input class=\"sk-toggleable__control sk-hidden--visually\" id=\"sk-estimator-id-341\" type=\"checkbox\" ><label for=\"sk-estimator-id-341\" class=\"sk-toggleable__label sk-toggleable__label-arrow\">XGBClassifier</label><div class=\"sk-toggleable__content\"><pre>XGBClassifier(base_score=None, booster=None, callbacks=None,\n              colsample_bylevel=None, colsample_bynode=None,\n              colsample_bytree=None, early_stopping_rounds=None,\n              enable_categorical=False, eval_metric=None, feature_types=None,\n              gamma=None, gpu_id=None, grow_policy=None, importance_type=None,\n              interaction_constraints=None, learning_rate=0.1, max_bin=None,\n              max_cat_threshold=None, max_cat_to_onehot=None,\n              max_delta_step=None, max_depth=5, max_leaves=None,\n              min_child_weight=None, missing=nan, monotone_constraints=None,\n              n_estimators=500, n_jobs=None, num_parallel_tree=None,\n              predictor=None, random_state=0, ...)</pre></div></div></div></div></div></div></div>"
     },
     "execution_count": 337,
     "metadata": {},
     "output_type": "execute_result"
    }
   ],
   "source": [
    "from xgboost import XGBClassifier\n",
    "female_pipeline = Pipeline(steps=[\n",
    "    ('preprocessor', female_preprocessor),\n",
    "    ('model', XGBClassifier(n_estimators=500, max_depth=5, learning_rate=0.1, random_state=0))\n",
    "])\n",
    "\n",
    "female_pipeline.fit(X_m, y_m)"
   ],
   "metadata": {
    "collapsed": false,
    "pycharm": {
     "name": "#%%\n"
    }
   }
  },
  {
   "cell_type": "code",
   "execution_count": 338,
   "outputs": [
    {
     "name": "stdout",
     "output_type": "stream",
     "text": [
      "The following 5 females are predicted to die:\n"
     ]
    },
    {
     "name": "stderr",
     "output_type": "stream",
     "text": [
      "C:\\Users\\tomas\\AppData\\Local\\Temp\\ipykernel_4256\\1788543005.py:5: UserWarning: Boolean Series key will be reindexed to match DataFrame index.\n",
      "  female = data.loc[892:1309][female_mask][['Name', 'Age', 'Title', 'Pfare', 'Pclass']]\n"
     ]
    },
    {
     "data": {
      "text/plain": "                                               Name   Age            Title  \\\nPassengerId                                                                  \n990                    Braf, Miss. Elin Ester Maria  20.0  Unmarried woman   \n1098                       McGowan, Miss. Katherine  35.0  Unmarried woman   \n1106         Andersson, Miss. Ida Augusta Margareta  38.0  Unmarried woman   \n1205                            Carr, Miss. Jeannie  37.0  Unmarried woman   \n1304                 Henriksson, Miss. Jenny Lovisa  28.0  Unmarried woman   \n\n              Pfare  Pclass     proba  \nPassengerId                            \n990          7.8542       3  0.239705  \n1098         7.7500       3  0.253385  \n1106         7.7750       3  0.071068  \n1205         7.7500       3  0.071068  \n1304         7.7750       3  0.262688  ",
      "text/html": "<div>\n<style scoped>\n    .dataframe tbody tr th:only-of-type {\n        vertical-align: middle;\n    }\n\n    .dataframe tbody tr th {\n        vertical-align: top;\n    }\n\n    .dataframe thead th {\n        text-align: right;\n    }\n</style>\n<table border=\"1\" class=\"dataframe\">\n  <thead>\n    <tr style=\"text-align: right;\">\n      <th></th>\n      <th>Name</th>\n      <th>Age</th>\n      <th>Title</th>\n      <th>Pfare</th>\n      <th>Pclass</th>\n      <th>proba</th>\n    </tr>\n    <tr>\n      <th>PassengerId</th>\n      <th></th>\n      <th></th>\n      <th></th>\n      <th></th>\n      <th></th>\n      <th></th>\n    </tr>\n  </thead>\n  <tbody>\n    <tr>\n      <th>990</th>\n      <td>Braf, Miss. Elin Ester Maria</td>\n      <td>20.0</td>\n      <td>Unmarried woman</td>\n      <td>7.8542</td>\n      <td>3</td>\n      <td>0.239705</td>\n    </tr>\n    <tr>\n      <th>1098</th>\n      <td>McGowan, Miss. Katherine</td>\n      <td>35.0</td>\n      <td>Unmarried woman</td>\n      <td>7.7500</td>\n      <td>3</td>\n      <td>0.253385</td>\n    </tr>\n    <tr>\n      <th>1106</th>\n      <td>Andersson, Miss. Ida Augusta Margareta</td>\n      <td>38.0</td>\n      <td>Unmarried woman</td>\n      <td>7.7750</td>\n      <td>3</td>\n      <td>0.071068</td>\n    </tr>\n    <tr>\n      <th>1205</th>\n      <td>Carr, Miss. Jeannie</td>\n      <td>37.0</td>\n      <td>Unmarried woman</td>\n      <td>7.7500</td>\n      <td>3</td>\n      <td>0.071068</td>\n    </tr>\n    <tr>\n      <th>1304</th>\n      <td>Henriksson, Miss. Jenny Lovisa</td>\n      <td>28.0</td>\n      <td>Unmarried woman</td>\n      <td>7.7750</td>\n      <td>3</td>\n      <td>0.262688</td>\n    </tr>\n  </tbody>\n</table>\n</div>"
     },
     "execution_count": 338,
     "metadata": {},
     "output_type": "execute_result"
    }
   ],
   "source": [
    "X_test_m = test_female[features]\n",
    "proba = female_pipeline.predict_proba(X_test_m)[:,1]\n",
    "predictions = np.where(proba <= 0.3, 0, 1)\n",
    "print(f'The following {len(test_female.loc[predictions == 0])} females are predicted to die:')\n",
    "female = data.loc[892:1309][female_mask][['Name', 'Age', 'Title', 'Pfare', 'Pclass']]\n",
    "female['proba'] = proba\n",
    "female[predictions == 0]"
   ],
   "metadata": {
    "collapsed": false,
    "pycharm": {
     "name": "#%%\n"
    }
   }
  },
  {
   "cell_type": "code",
   "execution_count": 339,
   "outputs": [],
   "source": [
    "data.loc[892:1309, 'Predict'][female_mask] = predictions\n",
    "submit = pd.DataFrame({'PassengerId': data.loc[892:1309].index, 'Survived': data.loc[892:1309, 'Predict'].astype(int)})\n",
    "submit.to_csv('gender_model3.csv', index=False)"
   ],
   "metadata": {
    "collapsed": false,
    "pycharm": {
     "name": "#%%\n"
    }
   }
  }
 ],
 "metadata": {
  "kernelspec": {
   "display_name": "Python 3",
   "language": "python",
   "name": "python3"
  },
  "language_info": {
   "codemirror_mode": {
    "name": "ipython",
    "version": 2
   },
   "file_extension": ".py",
   "mimetype": "text/x-python",
   "name": "python",
   "nbconvert_exporter": "python",
   "pygments_lexer": "ipython2",
   "version": "2.7.6"
  }
 },
 "nbformat": 4,
 "nbformat_minor": 0
}